{
 "cells": [
  {
   "cell_type": "markdown",
   "id": "497f9fec-eef1-4201-8f49-5365ec8899f2",
   "metadata": {},
   "source": [
    "# Spatial Analysis in Geology using R\n",
    "\n",
    "## by Pedro Nogueira"
   ]
  },
  {
   "cell_type": "markdown",
   "id": "6ded30f1-3eb3-42d3-81a0-d520c8559225",
   "metadata": {},
   "source": [
    "##  <span style=\"color:red;\">5. Functions for everyday data analytics </span>"
   ]
  },
  {
   "cell_type": "markdown",
   "id": "b15450a8-b9b2-45fa-ad0a-a2b633746734",
   "metadata": {},
   "source": [
    "###  <span style=\"color:green;\">5.1 Arrays and vectors </span>"
   ]
  },
  {
   "cell_type": "code",
   "execution_count": 22,
   "id": "b831c2ca-0ec9-4a9a-81d9-cb459c275644",
   "metadata": {},
   "outputs": [
    {
     "name": "stdout",
     "output_type": "stream",
     "text": [
      "               _                           \n",
      "platform       aarch64-apple-darwin20      \n",
      "arch           aarch64                     \n",
      "os             darwin20                    \n",
      "system         aarch64, darwin20           \n",
      "status                                     \n",
      "major          4                           \n",
      "minor          3.1                         \n",
      "year           2023                        \n",
      "month          06                          \n",
      "day            16                          \n",
      "svn rev        84548                       \n",
      "language       R                           \n",
      "version.string R version 4.3.1 (2023-06-16)\n",
      "nickname       Beagle Scouts               \n",
      "[1] \"/Users/pnogasmacmini/Documents/Jupyter Notebooks\"\n"
     ]
    }
   ],
   "source": [
    "#05-00\n",
    "# Settings\n",
    "\n",
    "\n",
    "# Print the R version information\n",
    "print(R.version)\n",
    "\n",
    "# Verify thw working directory\n",
    "wd_base = getwd()\n",
    "print(wd_base)"
   ]
  },
  {
   "cell_type": "code",
   "execution_count": 6,
   "id": "f8863377-27fa-45b7-bef0-09c8bc7c6b79",
   "metadata": {},
   "outputs": [
    {
     "data": {
      "text/html": [
       "<style>\n",
       ".list-inline {list-style: none; margin:0; padding: 0}\n",
       ".list-inline>li {display: inline-block}\n",
       ".list-inline>li:not(:last-child)::after {content: \"\\00b7\"; padding: 0 .5ex}\n",
       "</style>\n",
       "<ol class=list-inline><li>1</li><li>2</li><li>3</li><li>4</li></ol>\n"
      ],
      "text/latex": [
       "\\begin{enumerate*}\n",
       "\\item 1\n",
       "\\item 2\n",
       "\\item 3\n",
       "\\item 4\n",
       "\\end{enumerate*}\n"
      ],
      "text/markdown": [
       "1. 1\n",
       "2. 2\n",
       "3. 3\n",
       "4. 4\n",
       "\n",
       "\n"
      ],
      "text/plain": [
       "[1] 1 2 3 4"
      ]
     },
     "metadata": {},
     "output_type": "display_data"
    }
   ],
   "source": [
    "#05-01/01\n",
    "# Create the data\n",
    "x = c(3, 1, 4, 2)\n",
    "\n",
    "# View the result\n",
    "sort(x)"
   ]
  },
  {
   "cell_type": "code",
   "execution_count": 3,
   "id": "1e80f2a4-aa3f-495f-8288-df7030c3546b",
   "metadata": {},
   "outputs": [
    {
     "data": {
      "text/html": [
       "<style>\n",
       ".list-inline {list-style: none; margin:0; padding: 0}\n",
       ".list-inline>li {display: inline-block}\n",
       ".list-inline>li:not(:last-child)::after {content: \"\\00b7\"; padding: 0 .5ex}\n",
       "</style>\n",
       "<ol class=list-inline><li>4</li><li>3</li><li>2</li><li>1</li></ol>\n"
      ],
      "text/latex": [
       "\\begin{enumerate*}\n",
       "\\item 4\n",
       "\\item 3\n",
       "\\item 2\n",
       "\\item 1\n",
       "\\end{enumerate*}\n"
      ],
      "text/markdown": [
       "1. 4\n",
       "2. 3\n",
       "3. 2\n",
       "4. 1\n",
       "\n",
       "\n"
      ],
      "text/plain": [
       "[1] 4 3 2 1"
      ]
     },
     "metadata": {},
     "output_type": "display_data"
    }
   ],
   "source": [
    "#05-01/02\n",
    "# Sort descending\n",
    "sort(x, decreasing = TRUE)"
   ]
  },
  {
   "cell_type": "markdown",
   "id": "b8ebc641-0ca7-4c09-a5b9-2aff22634d73",
   "metadata": {},
   "source": [
    "### <span style=\"color:green;\">5.2 Strings and texts </span>"
   ]
  },
  {
   "cell_type": "code",
   "execution_count": 7,
   "id": "9730e10b-039c-47d9-b4cd-ed4d271192de",
   "metadata": {},
   "outputs": [
    {
     "data": {
      "text/html": [
       "'Granite &amp; Gabro &amp; Syenite'"
      ],
      "text/latex": [
       "'Granite \\& Gabro \\& Syenite'"
      ],
      "text/markdown": [
       "'Granite &amp; Gabro &amp; Syenite'"
      ],
      "text/plain": [
       "[1] \"Granite & Gabro & Syenite\""
      ]
     },
     "metadata": {},
     "output_type": "display_data"
    }
   ],
   "source": [
    "#05-03\n",
    "# Create the data\n",
    "x = c(\"Granite\", \"Gabro\", \"Syenite\")\n",
    "\n",
    "# View the result\n",
    "paste(x, collapse = \" & \")"
   ]
  },
  {
   "cell_type": "code",
   "execution_count": 8,
   "id": "dd1f20fa-d2c6-4c8f-8139-dea87b6b35d4",
   "metadata": {},
   "outputs": [
    {
     "data": {
      "text/html": [
       "'Grano'"
      ],
      "text/latex": [
       "'Grano'"
      ],
      "text/markdown": [
       "'Grano'"
      ],
      "text/plain": [
       "[1] \"Grano\""
      ]
     },
     "metadata": {},
     "output_type": "display_data"
    }
   ],
   "source": [
    "#05-04\n",
    "# Create the data\n",
    "x = \"Granodiorite\"\n",
    "\n",
    "# View the result\n",
    "substr(x, 1, 5)"
   ]
  },
  {
   "cell_type": "code",
   "execution_count": 9,
   "id": "2d53e09d-3c80-499f-9e3c-1783eda2d2ca",
   "metadata": {},
   "outputs": [
    {
     "data": {
      "text/html": [
       "'Wehrlite_Peridotite_Troctolite'"
      ],
      "text/latex": [
       "'Wehrlite\\_Peridotite\\_Troctolite'"
      ],
      "text/markdown": [
       "'Wehrlite_Peridotite_Troctolite'"
      ],
      "text/plain": [
       "[1] \"Wehrlite_Peridotite_Troctolite\""
      ]
     },
     "metadata": {},
     "output_type": "display_data"
    }
   ],
   "source": [
    "#05-05\n",
    "# Create the data\n",
    "x = \"Wehrlite Peridotite Troctolite\"\n",
    "\n",
    "# Substitute a sequence of character\n",
    "gsub(\" \", \"_\", x)"
   ]
  },
  {
   "cell_type": "markdown",
   "id": "4a27626c-ff99-4cb1-9faf-726a1cefec3b",
   "metadata": {},
   "source": [
    "### <span style=\"color:green;\">5.3 Data frame related functions </span>"
   ]
  },
  {
   "cell_type": "code",
   "execution_count": 10,
   "id": "0b999b8d-e810-44e3-a558-be28e34125de",
   "metadata": {},
   "outputs": [
    {
     "data": {
      "text/html": [
       "3"
      ],
      "text/latex": [
       "3"
      ],
      "text/markdown": [
       "3"
      ],
      "text/plain": [
       "[1] 3"
      ]
     },
     "metadata": {},
     "output_type": "display_data"
    }
   ],
   "source": [
    "#05-06/01\n",
    "# Create the data\n",
    "x = data.frame(a = c(1, 2, 3), b = c(4, 5, 6))\n",
    "\n",
    "# Number of rows\n",
    "nrow(x)"
   ]
  },
  {
   "cell_type": "code",
   "execution_count": 11,
   "id": "e3ff971f-3c5c-47c3-b2ce-c7aefcc7f05f",
   "metadata": {},
   "outputs": [
    {
     "data": {
      "text/html": [
       "2"
      ],
      "text/latex": [
       "2"
      ],
      "text/markdown": [
       "2"
      ],
      "text/plain": [
       "[1] 2"
      ]
     },
     "metadata": {},
     "output_type": "display_data"
    }
   ],
   "source": [
    "#05-06/02\n",
    "# View the result\n",
    "ncol(x)"
   ]
  },
  {
   "cell_type": "code",
   "execution_count": 12,
   "id": "a694ec58-be2e-4af6-97e1-47e671d342f4",
   "metadata": {},
   "outputs": [
    {
     "data": {
      "text/html": [
       "<table class=\"dataframe\">\n",
       "<caption>A data.frame: 2 × 2</caption>\n",
       "<thead>\n",
       "\t<tr><th></th><th scope=col>a</th><th scope=col>b</th></tr>\n",
       "\t<tr><th></th><th scope=col>&lt;dbl&gt;</th><th scope=col>&lt;dbl&gt;</th></tr>\n",
       "</thead>\n",
       "<tbody>\n",
       "\t<tr><th scope=row>1</th><td>1</td><td>4</td></tr>\n",
       "\t<tr><th scope=row>2</th><td>2</td><td>5</td></tr>\n",
       "</tbody>\n",
       "</table>\n"
      ],
      "text/latex": [
       "A data.frame: 2 × 2\n",
       "\\begin{tabular}{r|ll}\n",
       "  & a & b\\\\\n",
       "  & <dbl> & <dbl>\\\\\n",
       "\\hline\n",
       "\t1 & 1 & 4\\\\\n",
       "\t2 & 2 & 5\\\\\n",
       "\\end{tabular}\n"
      ],
      "text/markdown": [
       "\n",
       "A data.frame: 2 × 2\n",
       "\n",
       "| <!--/--> | a &lt;dbl&gt; | b &lt;dbl&gt; |\n",
       "|---|---|---|\n",
       "| 1 | 1 | 4 |\n",
       "| 2 | 2 | 5 |\n",
       "\n"
      ],
      "text/plain": [
       "  a b\n",
       "1 1 4\n",
       "2 2 5"
      ]
     },
     "metadata": {},
     "output_type": "display_data"
    }
   ],
   "source": [
    "#05-06/03\n",
    "# View the header part\n",
    "head(x, 2)"
   ]
  },
  {
   "cell_type": "code",
   "execution_count": 13,
   "id": "8cc692ec-3c80-4115-8295-1dbb6355c9b8",
   "metadata": {},
   "outputs": [
    {
     "data": {
      "text/html": [
       "<table class=\"dataframe\">\n",
       "<caption>A data.frame: 2 × 2</caption>\n",
       "<thead>\n",
       "\t<tr><th></th><th scope=col>a</th><th scope=col>b</th></tr>\n",
       "\t<tr><th></th><th scope=col>&lt;dbl&gt;</th><th scope=col>&lt;dbl&gt;</th></tr>\n",
       "</thead>\n",
       "<tbody>\n",
       "\t<tr><th scope=row>2</th><td>2</td><td>5</td></tr>\n",
       "\t<tr><th scope=row>3</th><td>3</td><td>6</td></tr>\n",
       "</tbody>\n",
       "</table>\n"
      ],
      "text/latex": [
       "A data.frame: 2 × 2\n",
       "\\begin{tabular}{r|ll}\n",
       "  & a & b\\\\\n",
       "  & <dbl> & <dbl>\\\\\n",
       "\\hline\n",
       "\t2 & 2 & 5\\\\\n",
       "\t3 & 3 & 6\\\\\n",
       "\\end{tabular}\n"
      ],
      "text/markdown": [
       "\n",
       "A data.frame: 2 × 2\n",
       "\n",
       "| <!--/--> | a &lt;dbl&gt; | b &lt;dbl&gt; |\n",
       "|---|---|---|\n",
       "| 2 | 2 | 5 |\n",
       "| 3 | 3 | 6 |\n",
       "\n"
      ],
      "text/plain": [
       "  a b\n",
       "2 2 5\n",
       "3 3 6"
      ]
     },
     "metadata": {},
     "output_type": "display_data"
    }
   ],
   "source": [
    "#05-06/04\n",
    "# View the tail part\n",
    "tail(x, 2)"
   ]
  },
  {
   "cell_type": "code",
   "execution_count": 14,
   "id": "e3562dad-c5d1-44fa-9bc2-9e1798da2cf1",
   "metadata": {},
   "outputs": [],
   "source": [
    "#05-07/01\n",
    "# Create the data\n",
    "df = data.frame(mineral_name = c(\"Quartz\", \"Plagioclase\", \"Orthoclase\"), \n",
    "                hardness = c(7, 6, 6), \n",
    "                color = c(\"Clear\", \"White\", \"Pink\"))"
   ]
  },
  {
   "cell_type": "code",
   "execution_count": 15,
   "id": "26c4cab6-1ddf-441b-88e7-fc90fca62373",
   "metadata": {},
   "outputs": [
    {
     "data": {
      "text/html": [
       "<style>\n",
       ".list-inline {list-style: none; margin:0; padding: 0}\n",
       ".list-inline>li {display: inline-block}\n",
       ".list-inline>li:not(:last-child)::after {content: \"\\00b7\"; padding: 0 .5ex}\n",
       "</style>\n",
       "<ol class=list-inline><li>'mineral_name'</li><li>'hardness'</li><li>'color'</li></ol>\n"
      ],
      "text/latex": [
       "\\begin{enumerate*}\n",
       "\\item 'mineral\\_name'\n",
       "\\item 'hardness'\n",
       "\\item 'color'\n",
       "\\end{enumerate*}\n"
      ],
      "text/markdown": [
       "1. 'mineral_name'\n",
       "2. 'hardness'\n",
       "3. 'color'\n",
       "\n",
       "\n"
      ],
      "text/plain": [
       "[1] \"mineral_name\" \"hardness\"     \"color\"       "
      ]
     },
     "metadata": {},
     "output_type": "display_data"
    }
   ],
   "source": [
    "#05-07/02\n",
    "# View the names of the columns\n",
    "colnames(df)"
   ]
  },
  {
   "cell_type": "code",
   "execution_count": 16,
   "id": "497a4fde-90cd-4426-b867-d975479cb2f5",
   "metadata": {},
   "outputs": [
    {
     "data": {
      "text/html": [
       "<style>\n",
       ".list-inline {list-style: none; margin:0; padding: 0}\n",
       ".list-inline>li {display: inline-block}\n",
       ".list-inline>li:not(:last-child)::after {content: \"\\00b7\"; padding: 0 .5ex}\n",
       "</style>\n",
       "<ol class=list-inline><li>'1'</li><li>'2'</li><li>'3'</li></ol>\n"
      ],
      "text/latex": [
       "\\begin{enumerate*}\n",
       "\\item '1'\n",
       "\\item '2'\n",
       "\\item '3'\n",
       "\\end{enumerate*}\n"
      ],
      "text/markdown": [
       "1. '1'\n",
       "2. '2'\n",
       "3. '3'\n",
       "\n",
       "\n"
      ],
      "text/plain": [
       "[1] \"1\" \"2\" \"3\""
      ]
     },
     "metadata": {},
     "output_type": "display_data"
    }
   ],
   "source": [
    "#05-07/03\n",
    "# View the names of the rows\n",
    "rownames(df)"
   ]
  },
  {
   "cell_type": "code",
   "execution_count": 17,
   "id": "a3ff3aa8-e3af-4baf-b4ac-76573a342ba9",
   "metadata": {},
   "outputs": [
    {
     "data": {
      "text/html": [
       "<table class=\"dataframe\">\n",
       "<caption>A data.frame: 3 × 3</caption>\n",
       "<thead>\n",
       "\t<tr><th></th><th scope=col>mineral_name</th><th scope=col>hardness</th><th scope=col>color</th></tr>\n",
       "\t<tr><th></th><th scope=col>&lt;chr&gt;</th><th scope=col>&lt;dbl&gt;</th><th scope=col>&lt;chr&gt;</th></tr>\n",
       "</thead>\n",
       "<tbody>\n",
       "\t<tr><th scope=row>Sample A</th><td>Quartz     </td><td>7</td><td>Clear</td></tr>\n",
       "\t<tr><th scope=row>Sample B</th><td>Plagioclase</td><td>6</td><td>White</td></tr>\n",
       "\t<tr><th scope=row>Sample C</th><td>Orthoclase </td><td>6</td><td>Pink </td></tr>\n",
       "</tbody>\n",
       "</table>\n"
      ],
      "text/latex": [
       "A data.frame: 3 × 3\n",
       "\\begin{tabular}{r|lll}\n",
       "  & mineral\\_name & hardness & color\\\\\n",
       "  & <chr> & <dbl> & <chr>\\\\\n",
       "\\hline\n",
       "\tSample A & Quartz      & 7 & Clear\\\\\n",
       "\tSample B & Plagioclase & 6 & White\\\\\n",
       "\tSample C & Orthoclase  & 6 & Pink \\\\\n",
       "\\end{tabular}\n"
      ],
      "text/markdown": [
       "\n",
       "A data.frame: 3 × 3\n",
       "\n",
       "| <!--/--> | mineral_name &lt;chr&gt; | hardness &lt;dbl&gt; | color &lt;chr&gt; |\n",
       "|---|---|---|---|\n",
       "| Sample A | Quartz      | 7 | Clear |\n",
       "| Sample B | Plagioclase | 6 | White |\n",
       "| Sample C | Orthoclase  | 6 | Pink  |\n",
       "\n"
      ],
      "text/plain": [
       "         mineral_name hardness color\n",
       "Sample A Quartz       7        Clear\n",
       "Sample B Plagioclase  6        White\n",
       "Sample C Orthoclase   6        Pink "
      ]
     },
     "metadata": {},
     "output_type": "display_data"
    }
   ],
   "source": [
    "#05-07/04\n",
    "# Define the rownames\n",
    "rownames(df) = c (\"Sample A\", \"Sample B\", \"Sample C\")\n",
    "\n",
    "# View the resulting data frame\n",
    "head(df)"
   ]
  },
  {
   "cell_type": "markdown",
   "id": "825652f6-0543-4def-bb18-496f49389803",
   "metadata": {},
   "source": [
    "### <span style=\"color:green;\">5.4 The apply() functions </span>"
   ]
  },
  {
   "cell_type": "code",
   "execution_count": 19,
   "id": "81fed5f2-045e-48b4-bb82-915f654ab0f4",
   "metadata": {},
   "outputs": [
    {
     "data": {
      "text/html": [
       "<table class=\"dataframe\">\n",
       "<caption>A data.frame: 8 × 5</caption>\n",
       "<thead>\n",
       "\t<tr><th scope=col>name</th><th scope=col>color</th><th scope=col>hardness</th><th scope=col>density</th><th scope=col>density_dist</th></tr>\n",
       "\t<tr><th scope=col>&lt;chr&gt;</th><th scope=col>&lt;chr&gt;</th><th scope=col>&lt;dbl&gt;</th><th scope=col>&lt;dbl&gt;</th><th scope=col>&lt;dbl&gt;</th></tr>\n",
       "</thead>\n",
       "<tbody>\n",
       "\t<tr><td>Quartz      </td><td>Clear </td><td>7.0</td><td>2.65</td><td>1.03875</td></tr>\n",
       "\t<tr><td>Plagioclase </td><td>White </td><td>6.0</td><td>2.71</td><td>0.97875</td></tr>\n",
       "\t<tr><td>Orthoclase  </td><td>Pink  </td><td>6.0</td><td>2.54</td><td>1.14875</td></tr>\n",
       "\t<tr><td>Biotite     </td><td>Black </td><td>2.5</td><td>2.88</td><td>0.80875</td></tr>\n",
       "\t<tr><td>Muscovite   </td><td>Green </td><td>2.5</td><td>2.83</td><td>0.85875</td></tr>\n",
       "\t<tr><td>Galena      </td><td>Gray  </td><td>2.5</td><td>7.50</td><td>3.81125</td></tr>\n",
       "\t<tr><td>Sphalerite  </td><td>Yellow</td><td>4.0</td><td>4.10</td><td>0.41125</td></tr>\n",
       "\t<tr><td>Chalcopyrite</td><td>Green </td><td>3.5</td><td>4.30</td><td>0.61125</td></tr>\n",
       "</tbody>\n",
       "</table>\n"
      ],
      "text/latex": [
       "A data.frame: 8 × 5\n",
       "\\begin{tabular}{lllll}\n",
       " name & color & hardness & density & density\\_dist\\\\\n",
       " <chr> & <chr> & <dbl> & <dbl> & <dbl>\\\\\n",
       "\\hline\n",
       "\t Quartz       & Clear  & 7.0 & 2.65 & 1.03875\\\\\n",
       "\t Plagioclase  & White  & 6.0 & 2.71 & 0.97875\\\\\n",
       "\t Orthoclase   & Pink   & 6.0 & 2.54 & 1.14875\\\\\n",
       "\t Biotite      & Black  & 2.5 & 2.88 & 0.80875\\\\\n",
       "\t Muscovite    & Green  & 2.5 & 2.83 & 0.85875\\\\\n",
       "\t Galena       & Gray   & 2.5 & 7.50 & 3.81125\\\\\n",
       "\t Sphalerite   & Yellow & 4.0 & 4.10 & 0.41125\\\\\n",
       "\t Chalcopyrite & Green  & 3.5 & 4.30 & 0.61125\\\\\n",
       "\\end{tabular}\n"
      ],
      "text/markdown": [
       "\n",
       "A data.frame: 8 × 5\n",
       "\n",
       "| name &lt;chr&gt; | color &lt;chr&gt; | hardness &lt;dbl&gt; | density &lt;dbl&gt; | density_dist &lt;dbl&gt; |\n",
       "|---|---|---|---|---|\n",
       "| Quartz       | Clear  | 7.0 | 2.65 | 1.03875 |\n",
       "| Plagioclase  | White  | 6.0 | 2.71 | 0.97875 |\n",
       "| Orthoclase   | Pink   | 6.0 | 2.54 | 1.14875 |\n",
       "| Biotite      | Black  | 2.5 | 2.88 | 0.80875 |\n",
       "| Muscovite    | Green  | 2.5 | 2.83 | 0.85875 |\n",
       "| Galena       | Gray   | 2.5 | 7.50 | 3.81125 |\n",
       "| Sphalerite   | Yellow | 4.0 | 4.10 | 0.41125 |\n",
       "| Chalcopyrite | Green  | 3.5 | 4.30 | 0.61125 |\n",
       "\n"
      ],
      "text/plain": [
       "  name         color  hardness density density_dist\n",
       "1 Quartz       Clear  7.0      2.65    1.03875     \n",
       "2 Plagioclase  White  6.0      2.71    0.97875     \n",
       "3 Orthoclase   Pink   6.0      2.54    1.14875     \n",
       "4 Biotite      Black  2.5      2.88    0.80875     \n",
       "5 Muscovite    Green  2.5      2.83    0.85875     \n",
       "6 Galena       Gray   2.5      7.50    3.81125     \n",
       "7 Sphalerite   Yellow 4.0      4.10    0.41125     \n",
       "8 Chalcopyrite Green  3.5      4.30    0.61125     "
      ]
     },
     "metadata": {},
     "output_type": "display_data"
    }
   ],
   "source": [
    "#05-08\n",
    "# Create the data frame\n",
    "minerals = data.frame(\n",
    "name = c(\"Quartz\", \"Plagioclase\", \"Orthoclase\", \"Biotite\", \"Muscovite\", \"Galena\", \"Sphalerite\", \"Chalcopyrite\"), \n",
    "    color = c(\"Clear\", \"White\", \"Pink\", \"Black\", \"Green\", \"Gray\", \"Yellow\", \"Green\"), \n",
    "    hardness = c(7, 6, 6, 2.5, 2.5, 2.5, 4, 3.5), \n",
    "    density = c(2.65, 2.71, 2.54, 2.88, 2.83, 7.5, 4.1, 4.3))\n",
    "\n",
    "# Calculate the mean density\n",
    "mean_density = mean(minerals$density)\n",
    "\n",
    "# Calculate the distance for each of the mineral densities from the mean\n",
    "mineral_density_distance =\n",
    "apply(minerals, 1, function(x) abs(as.numeric(x[4]) - mean_density))\n",
    "      \n",
    "# Add the resulting column to the minerals data frame\n",
    "minerals$density_dist = mineral_density_distance\n",
    "      \n",
    "# Show the new data frame\n",
    "minerals"
   ]
  },
  {
   "cell_type": "code",
   "execution_count": 20,
   "id": "556bcd13-b15e-4018-835d-0c4093c71b06",
   "metadata": {},
   "outputs": [
    {
     "data": {
      "text/html": [
       "<table class=\"dataframe\">\n",
       "<caption>A data.frame: 8 × 6</caption>\n",
       "<thead>\n",
       "\t<tr><th scope=col>name</th><th scope=col>color</th><th scope=col>hardness</th><th scope=col>density</th><th scope=col>density_dist</th><th scope=col>dist_cat</th></tr>\n",
       "\t<tr><th scope=col>&lt;chr&gt;</th><th scope=col>&lt;chr&gt;</th><th scope=col>&lt;dbl&gt;</th><th scope=col>&lt;dbl&gt;</th><th scope=col>&lt;dbl&gt;</th><th scope=col>&lt;list&gt;</th></tr>\n",
       "</thead>\n",
       "<tbody>\n",
       "\t<tr><td>Quartz      </td><td>Clear </td><td>7.0</td><td>2.65</td><td>1.03875</td><td>far</td></tr>\n",
       "\t<tr><td>Plagioclase </td><td>White </td><td>6.0</td><td>2.71</td><td>0.97875</td><td>near</td></tr>\n",
       "\t<tr><td>Orthoclase  </td><td>Pink  </td><td>6.0</td><td>2.54</td><td>1.14875</td><td>far</td></tr>\n",
       "\t<tr><td>Biotite     </td><td>Black </td><td>2.5</td><td>2.88</td><td>0.80875</td><td>near</td></tr>\n",
       "\t<tr><td>Muscovite   </td><td>Green </td><td>2.5</td><td>2.83</td><td>0.85875</td><td>near</td></tr>\n",
       "\t<tr><td>Galena      </td><td>Gray  </td><td>2.5</td><td>7.50</td><td>3.81125</td><td>far</td></tr>\n",
       "\t<tr><td>Sphalerite  </td><td>Yellow</td><td>4.0</td><td>4.10</td><td>0.41125</td><td>near</td></tr>\n",
       "\t<tr><td>Chalcopyrite</td><td>Green </td><td>3.5</td><td>4.30</td><td>0.61125</td><td>near</td></tr>\n",
       "</tbody>\n",
       "</table>\n"
      ],
      "text/latex": [
       "A data.frame: 8 × 6\n",
       "\\begin{tabular}{llllll}\n",
       " name & color & hardness & density & density\\_dist & dist\\_cat\\\\\n",
       " <chr> & <chr> & <dbl> & <dbl> & <dbl> & <list>\\\\\n",
       "\\hline\n",
       "\t Quartz       & Clear  & 7.0 & 2.65 & 1.03875 & far\\\\\n",
       "\t Plagioclase  & White  & 6.0 & 2.71 & 0.97875 & near\\\\\n",
       "\t Orthoclase   & Pink   & 6.0 & 2.54 & 1.14875 & far\\\\\n",
       "\t Biotite      & Black  & 2.5 & 2.88 & 0.80875 & near\\\\\n",
       "\t Muscovite    & Green  & 2.5 & 2.83 & 0.85875 & near\\\\\n",
       "\t Galena       & Gray   & 2.5 & 7.50 & 3.81125 & far\\\\\n",
       "\t Sphalerite   & Yellow & 4.0 & 4.10 & 0.41125 & near\\\\\n",
       "\t Chalcopyrite & Green  & 3.5 & 4.30 & 0.61125 & near\\\\\n",
       "\\end{tabular}\n"
      ],
      "text/markdown": [
       "\n",
       "A data.frame: 8 × 6\n",
       "\n",
       "| name &lt;chr&gt; | color &lt;chr&gt; | hardness &lt;dbl&gt; | density &lt;dbl&gt; | density_dist &lt;dbl&gt; | dist_cat &lt;list&gt; |\n",
       "|---|---|---|---|---|---|\n",
       "| Quartz       | Clear  | 7.0 | 2.65 | 1.03875 | far |\n",
       "| Plagioclase  | White  | 6.0 | 2.71 | 0.97875 | near |\n",
       "| Orthoclase   | Pink   | 6.0 | 2.54 | 1.14875 | far |\n",
       "| Biotite      | Black  | 2.5 | 2.88 | 0.80875 | near |\n",
       "| Muscovite    | Green  | 2.5 | 2.83 | 0.85875 | near |\n",
       "| Galena       | Gray   | 2.5 | 7.50 | 3.81125 | far |\n",
       "| Sphalerite   | Yellow | 4.0 | 4.10 | 0.41125 | near |\n",
       "| Chalcopyrite | Green  | 3.5 | 4.30 | 0.61125 | near |\n",
       "\n"
      ],
      "text/plain": [
       "  name         color  hardness density density_dist dist_cat\n",
       "1 Quartz       Clear  7.0      2.65    1.03875      far     \n",
       "2 Plagioclase  White  6.0      2.71    0.97875      near    \n",
       "3 Orthoclase   Pink   6.0      2.54    1.14875      far     \n",
       "4 Biotite      Black  2.5      2.88    0.80875      near    \n",
       "5 Muscovite    Green  2.5      2.83    0.85875      near    \n",
       "6 Galena       Gray   2.5      7.50    3.81125      far     \n",
       "7 Sphalerite   Yellow 4.0      4.10    0.41125      near    \n",
       "8 Chalcopyrite Green  3.5      4.30    0.61125      near    "
      ]
     },
     "metadata": {},
     "output_type": "display_data"
    }
   ],
   "source": [
    "#05-09\n",
    "# Use lapply to calculate a categorical variable.\n",
    "minerals$dist_cat = lapply(minerals$density, function(x) {\n",
    "    if (abs(as.numeric(x) - mean_density) < 1) {\n",
    "        return(\"near\")\n",
    "    } else {\n",
    "        return(\"far\")\n",
    "    }\n",
    "})\n",
    "\n",
    "# Show the results\n",
    "minerals"
   ]
  },
  {
   "cell_type": "markdown",
   "id": "5a1fdcde-8b04-4cbf-9e1a-fc5542a8520e",
   "metadata": {},
   "source": [
    "### <span style=\"color:green;\">5.5 Creating functions </span>"
   ]
  },
  {
   "cell_type": "code",
   "execution_count": 21,
   "id": "26ec781a-8ed2-4228-942e-a3b92095c801",
   "metadata": {},
   "outputs": [
    {
     "name": "stdout",
     "output_type": "stream",
     "text": [
      "[1] 8\n"
     ]
    }
   ],
   "source": [
    "#05-10\n",
    "# Define a function that adds the numbers of a vector\n",
    "add_numbers = function(x, y) {\n",
    "    addition = x + y\n",
    "    return(addition)\n",
    "}\n",
    "\n",
    "# Call the function\n",
    "sum_result = add_numbers(3, 5)\n",
    "\n",
    "# View the result\n",
    "print(sum_result)"
   ]
  },
  {
   "cell_type": "code",
   "execution_count": null,
   "id": "c0bd0855-6b3e-465c-95ac-e05c006d5baf",
   "metadata": {},
   "outputs": [],
   "source": []
  }
 ],
 "metadata": {
  "kernelspec": {
   "display_name": "R",
   "language": "R",
   "name": "ir"
  },
  "language_info": {
   "codemirror_mode": "r",
   "file_extension": ".r",
   "mimetype": "text/x-r-source",
   "name": "R",
   "pygments_lexer": "r",
   "version": "4.3.1"
  }
 },
 "nbformat": 4,
 "nbformat_minor": 5
}
