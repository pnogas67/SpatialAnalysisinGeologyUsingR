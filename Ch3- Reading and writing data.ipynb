{
 "cells": [
  {
   "cell_type": "markdown",
   "id": "293e9636-2054-464e-9fd8-2d8556f2acb7",
   "metadata": {},
   "source": [
    "# Spatial Analysis in Geology using R\n",
    "\n",
    "## by Pedro Nogueira"
   ]
  },
  {
   "cell_type": "markdown",
   "id": "5e20b5ba-09ab-4ad3-b39c-a511e2cd9934",
   "metadata": {},
   "source": [
    "## 3. Reading and writting data"
   ]
  },
  {
   "cell_type": "code",
   "execution_count": 2,
   "id": "9658be7e-04b5-4182-95d9-e1dc1228c27d",
   "metadata": {},
   "outputs": [
    {
     "name": "stdout",
     "output_type": "stream",
     "text": [
      "               _                           \n",
      "platform       aarch64-apple-darwin20      \n",
      "arch           aarch64                     \n",
      "os             darwin20                    \n",
      "system         aarch64, darwin20           \n",
      "status                                     \n",
      "major          4                           \n",
      "minor          3.1                         \n",
      "year           2023                        \n",
      "month          06                          \n",
      "day            16                          \n",
      "svn rev        84548                       \n",
      "language       R                           \n",
      "version.string R version 4.3.1 (2023-06-16)\n",
      "nickname       Beagle Scouts               \n",
      "[1] \"/Users/pnogasmacmini/Documents/Jupyter Notebooks\"\n"
     ]
    }
   ],
   "source": [
    "#03-00\n",
    "# Settings\n",
    "\n",
    "\n",
    "# Print the R version information\n",
    "print(R.version)\n",
    "\n",
    "# Verify thw working directory\n",
    "wd_base = getwd()\n",
    "print(wd_base)"
   ]
  },
  {
   "cell_type": "code",
   "execution_count": 7,
   "id": "392ab2de-5b21-4db0-9f84-bfe446c973fc",
   "metadata": {},
   "outputs": [
    {
     "name": "stderr",
     "output_type": "stream",
     "text": [
      "Warning message in dir.create(file.path(wd_base, \"/Spatial\")):\n",
      "“'/Users/pnogasmacmini/Documents/Jupyter Notebooks//Spatial' already exists”\n"
     ]
    }
   ],
   "source": [
    "#03-00\n",
    "# Create the folder\n",
    "folder_path = paste0(wd_base,\"/Spatial\")\n",
    "dir.create(file.path(wd_base,\"/Spatial\"))\n",
    "\n",
    "# Define the working folder\n",
    "setwd(folder_path)"
   ]
  },
  {
   "cell_type": "code",
   "execution_count": 8,
   "id": "e13399bd-5a06-4de0-99d7-6cf8e793d84d",
   "metadata": {},
   "outputs": [
    {
     "name": "stderr",
     "output_type": "stream",
     "text": [
      "Linking to GEOS 3.11.0, GDAL 3.5.3, PROJ 9.1.0; sf_use_s2() is TRUE\n",
      "\n",
      "terra 1.7.55\n",
      "\n"
     ]
    }
   ],
   "source": [
    "#03-01\n",
    "# Load the libraries\n",
    "library(sf)\n",
    "library(terra)\n",
    "\n",
    "# Define the link to the data\n",
    "url =\"https://biogeo.ucdavis.edu/data/diva/rds/PRT_rds.zip\"\n",
    "\n",
    "# Download the data\n",
    "download.file(url, destfile = \"Roads_Pt.zip\")\n",
    "\n",
    "# Unzip the file\n",
    "unzip(zipfile = \"Roads_Pt.zip\", exdir = 'Roads Pt')"
   ]
  },
  {
   "cell_type": "code",
   "execution_count": 9,
   "id": "66562a0c-2974-479e-b84f-56837f231bce",
   "metadata": {},
   "outputs": [
    {
     "data": {
      "text/html": [
       "<style>\n",
       ".list-inline {list-style: none; margin:0; padding: 0}\n",
       ".list-inline>li {display: inline-block}\n",
       ".list-inline>li:not(:last-child)::after {content: \"\\00b7\"; padding: 0 .5ex}\n",
       "</style>\n",
       "<ol class=list-inline><li>'PRT_roads.dbf'</li><li>'PRT_roads.prj'</li><li>'PRT_roads.shp'</li><li>'PRT_roads.shx'</li></ol>\n"
      ],
      "text/latex": [
       "\\begin{enumerate*}\n",
       "\\item 'PRT\\_roads.dbf'\n",
       "\\item 'PRT\\_roads.prj'\n",
       "\\item 'PRT\\_roads.shp'\n",
       "\\item 'PRT\\_roads.shx'\n",
       "\\end{enumerate*}\n"
      ],
      "text/markdown": [
       "1. 'PRT_roads.dbf'\n",
       "2. 'PRT_roads.prj'\n",
       "3. 'PRT_roads.shp'\n",
       "4. 'PRT_roads.shx'\n",
       "\n",
       "\n"
      ],
      "text/plain": [
       "[1] \"PRT_roads.dbf\" \"PRT_roads.prj\" \"PRT_roads.shp\" \"PRT_roads.shx\""
      ]
     },
     "metadata": {},
     "output_type": "display_data"
    }
   ],
   "source": [
    "#03-02/01\n",
    "dir(\"Roads Pt/\")"
   ]
  },
  {
   "cell_type": "code",
   "execution_count": 13,
   "id": "98bd6517-5f61-47a6-b3a3-94b9d6dbf86c",
   "metadata": {},
   "outputs": [],
   "source": [
    "#03-03/01\n",
    "roads_pt = read_sf(\"Roads Pt/PRT_roads.shp\")"
   ]
  },
  {
   "cell_type": "code",
   "execution_count": 12,
   "id": "a2f22fd7-ba07-4958-b8ec-a17fcd10de62",
   "metadata": {},
   "outputs": [
    {
     "data": {
      "text/html": [
       "<style>\n",
       ".list-inline {list-style: none; margin:0; padding: 0}\n",
       ".list-inline>li {display: inline-block}\n",
       ".list-inline>li:not(:last-child)::after {content: \"\\00b7\"; padding: 0 .5ex}\n",
       "</style>\n",
       "<ol class=list-inline><li>'sf'</li><li>'tbl_df'</li><li>'tbl'</li><li>'data.frame'</li></ol>\n"
      ],
      "text/latex": [
       "\\begin{enumerate*}\n",
       "\\item 'sf'\n",
       "\\item 'tbl\\_df'\n",
       "\\item 'tbl'\n",
       "\\item 'data.frame'\n",
       "\\end{enumerate*}\n"
      ],
      "text/markdown": [
       "1. 'sf'\n",
       "2. 'tbl_df'\n",
       "3. 'tbl'\n",
       "4. 'data.frame'\n",
       "\n",
       "\n"
      ],
      "text/plain": [
       "[1] \"sf\"         \"tbl_df\"     \"tbl\"        \"data.frame\""
      ]
     },
     "metadata": {},
     "output_type": "display_data"
    }
   ],
   "source": [
    "#03-03/02\n",
    "class(roads_pt)"
   ]
  },
  {
   "cell_type": "code",
   "execution_count": 14,
   "id": "00730cbd-e78a-4f22-9fba-ad0a0cdf1f9a",
   "metadata": {},
   "outputs": [
    {
     "data": {
      "text/plain": [
       "      xmin       ymin       xmax       ymax \n",
       "-31.257694  32.636250  -6.254389  42.143025 "
      ]
     },
     "metadata": {},
     "output_type": "display_data"
    }
   ],
   "source": [
    "#03-03/03\n",
    "st_bbox(roads_pt)"
   ]
  },
  {
   "cell_type": "code",
   "execution_count": 15,
   "id": "696bc55e-a13b-490a-bf36-8a0511e224cd",
   "metadata": {},
   "outputs": [
    {
     "data": {
      "text/html": [
       "<span style=white-space:pre-wrap>'GEOGCRS[\"WGS 84\",\\n    DATUM[\"World Geodetic System 1984\",\\n        ELLIPSOID[\"WGS 84\",6378137,298.257223563,\\n            LENGTHUNIT[\"metre\",1]]],\\n    PRIMEM[\"Greenwich\",0,\\n        ANGLEUNIT[\"degree\",0.0174532925199433]],\\n    CS[ellipsoidal,2],\\n        AXIS[\"geodetic latitude (Lat)\",north,\\n            ORDER[1],\\n            ANGLEUNIT[\"degree\",0.0174532925199433]],\\n        AXIS[\"geodetic longitude (Lon)\",east,\\n            ORDER[2],\\n            ANGLEUNIT[\"degree\",0.0174532925199433]],\\n    ID[\"EPSG\",4326]]'</span>"
      ],
      "text/latex": [
       "'GEOGCRS{[}\"WGS 84\",\\textbackslash{}n    DATUM{[}\"World Geodetic System 1984\",\\textbackslash{}n        ELLIPSOID{[}\"WGS 84\",6378137,298.257223563,\\textbackslash{}n            LENGTHUNIT{[}\"metre\",1{]}{]}{]},\\textbackslash{}n    PRIMEM{[}\"Greenwich\",0,\\textbackslash{}n        ANGLEUNIT{[}\"degree\",0.0174532925199433{]}{]},\\textbackslash{}n    CS{[}ellipsoidal,2{]},\\textbackslash{}n        AXIS{[}\"geodetic latitude (Lat)\",north,\\textbackslash{}n            ORDER{[}1{]},\\textbackslash{}n            ANGLEUNIT{[}\"degree\",0.0174532925199433{]}{]},\\textbackslash{}n        AXIS{[}\"geodetic longitude (Lon)\",east,\\textbackslash{}n            ORDER{[}2{]},\\textbackslash{}n            ANGLEUNIT{[}\"degree\",0.0174532925199433{]}{]},\\textbackslash{}n    ID{[}\"EPSG\",4326{]}{]}'"
      ],
      "text/markdown": [
       "<span style=white-space:pre-wrap>'GEOGCRS[\"WGS 84\",\\n    DATUM[\"World Geodetic System 1984\",\\n        ELLIPSOID[\"WGS 84\",6378137,298.257223563,\\n            LENGTHUNIT[\"metre\",1]]],\\n    PRIMEM[\"Greenwich\",0,\\n        ANGLEUNIT[\"degree\",0.0174532925199433]],\\n    CS[ellipsoidal,2],\\n        AXIS[\"geodetic latitude (Lat)\",north,\\n            ORDER[1],\\n            ANGLEUNIT[\"degree\",0.0174532925199433]],\\n        AXIS[\"geodetic longitude (Lon)\",east,\\n            ORDER[2],\\n            ANGLEUNIT[\"degree\",0.0174532925199433]],\\n    ID[\"EPSG\",4326]]'</span>"
      ],
      "text/plain": [
       "[1] \"GEOGCRS[\\\"WGS 84\\\",\\n    DATUM[\\\"World Geodetic System 1984\\\",\\n        ELLIPSOID[\\\"WGS 84\\\",6378137,298.257223563,\\n            LENGTHUNIT[\\\"metre\\\",1]]],\\n    PRIMEM[\\\"Greenwich\\\",0,\\n        ANGLEUNIT[\\\"degree\\\",0.0174532925199433]],\\n    CS[ellipsoidal,2],\\n        AXIS[\\\"geodetic latitude (Lat)\\\",north,\\n            ORDER[1],\\n            ANGLEUNIT[\\\"degree\\\",0.0174532925199433]],\\n        AXIS[\\\"geodetic longitude (Lon)\\\",east,\\n            ORDER[2],\\n            ANGLEUNIT[\\\"degree\\\",0.0174532925199433]],\\n    ID[\\\"EPSG\\\",4326]]\""
      ]
     },
     "metadata": {},
     "output_type": "display_data"
    }
   ],
   "source": [
    "#03-03/04\n",
    "crs(roads_pt)"
   ]
  },
  {
   "cell_type": "code",
   "execution_count": 16,
   "id": "ad6f2630-e54a-4b59-90f5-b19fe65942b5",
   "metadata": {},
   "outputs": [
    {
     "name": "stderr",
     "output_type": "stream",
     "text": [
      "Registered S3 method overwritten by 'geojsonsf':\n",
      "  method        from   \n",
      "  print.geojson geojson\n",
      "\n"
     ]
    },
    {
     "data": {
      "application/geo+json": {
       "features": [
        {
         "geometry": {
          "coordinates": [
           [
            [
             -8.2289,
             42.133
            ],
            [
             -8.2274,
             42.1327
            ],
            [
             -8.2163,
             42.1304
            ],
            [
             -8.2063,
             42.133
            ],
            [
             -8.1995,
             42.1387
            ],
            [
             -8.1961,
             42.1397
            ]
           ],
           [
            [
             -8.483,
             42.0723
            ],
            [
             -8.4798,
             42.0745
            ],
            [
             -8.4742,
             42.0756
            ],
            [
             -8.4655,
             42.0773
            ],
            [
             -8.4412,
             42.0764
            ],
            [
             -8.4286,
             42.0759
            ],
            [
             -8.4183,
             42.0737
            ],
            [
             -8.4088,
             42.0736
            ],
            [
             -8.3965,
             42.0786
            ],
            [
             -8.3835,
             42.0768
            ],
            [
             -8.3742,
             42.0756
            ],
            [
             -8.3343,
             42.0807
            ],
            [
             -8.3197,
             42.0837
            ],
            [
             -8.2983,
             42.0963
            ],
            [
             -8.2832,
             42.1013
            ],
            [
             -8.2736,
             42.106
            ],
            [
             -8.2571,
             42.1081
            ],
            [
             -8.2522,
             42.1197
            ],
            [
             -8.234,
             42.1321
            ]
           ]
          ],
          "type": "MultiLineString"
         },
         "properties": {
          "F_CODE_DES": "Road",
          "ISO": "PRT",
          "ISOCOUNTRY": "PORTUGAL",
          "MED_DESCRI": "Without Median",
          "RTT_DESCRI": "Secondary Route"
         },
         "type": "Feature"
        },
        {
         "geometry": {
          "coordinates": [
           [
            [
             -8.5898,
             42.0484
            ],
            [
             -8.5873,
             42.0489
            ],
            [
             -8.5853,
             42.0485
            ],
            [
             -8.5823,
             42.0477
            ],
            [
             -8.5756,
             42.0434
            ],
            [
             -8.5719,
             42.0433
            ],
            [
             -8.565,
             42.0465
            ],
            [
             -8.5588,
             42.0469
            ],
            [
             -8.5479,
             42.0477
            ],
            [
             -8.5243,
             42.0526
            ],
            [
             -8.5207,
             42.0542
            ],
            [
             -8.5159,
             42.0564
            ],
            [
             -8.5148,
             42.0574
            ],
            [
             -8.5054,
             42.0666
            ],
            [
             -8.4959,
             42.071
            ],
            [
             -8.4886,
             42.0718
            ],
            [
             -8.483,
             42.0723
            ]
           ]
          ],
          "type": "MultiLineString"
         },
         "properties": {
          "F_CODE_DES": "Road",
          "ISO": "PRT",
          "ISOCOUNTRY": "PORTUGAL",
          "MED_DESCRI": "Without Median",
          "RTT_DESCRI": "Secondary Route"
         },
         "type": "Feature"
        },
        {
         "geometry": {
          "coordinates": [
           [
            [
             -8.5898,
             42.0484
            ],
            [
             -8.6118,
             42.0435
            ],
            [
             -8.6174,
             42.0399
            ],
            [
             -8.6229,
             42.0336
            ],
            [
             -8.6336,
             42.0288
            ]
           ]
          ],
          "type": "MultiLineString"
         },
         "properties": {
          "F_CODE_DES": "Road",
          "ISO": "PRT",
          "ISOCOUNTRY": "PORTUGAL",
          "MED_DESCRI": "Without Median",
          "RTT_DESCRI": "Secondary Route"
         },
         "type": "Feature"
        },
        {
         "geometry": {
          "coordinates": [
           [
            [
             -8.6336,
             42.0288
            ],
            [
             -8.6344,
             42.0299
            ],
            [
             -8.6382,
             42.0354
            ]
           ]
          ],
          "type": "MultiLineString"
         },
         "properties": {
          "F_CODE_DES": "Road",
          "ISO": "PRT",
          "ISOCOUNTRY": "PORTUGAL",
          "MED_DESCRI": "Without Median",
          "RTT_DESCRI": "Secondary Route"
         },
         "type": "Feature"
        },
        {
         "geometry": {
          "coordinates": [
           [
            [
             -8.6336,
             42.0288
            ],
            [
             -8.6261,
             42.0165
            ],
            [
             -8.6266,
             42.01
            ],
            [
             -8.6327,
             42.0013
            ],
            [
             -8.634,
             41.9995
            ],
            [
             -8.6514,
             41.9828
            ]
           ]
          ],
          "type": "MultiLineString"
         },
         "properties": {
          "F_CODE_DES": "Road",
          "ISO": "PRT",
          "ISOCOUNTRY": "PORTUGAL",
          "MED_DESCRI": "Without Median",
          "RTT_DESCRI": "Primary Route"
         },
         "type": "Feature"
        },
        {
         "geometry": {
          "coordinates": [
           [
            [
             -8.6514,
             41.9828
            ],
            [
             -8.6659,
             41.9805
            ],
            [
             -8.6868,
             41.9699
            ],
            [
             -8.7018,
             41.966
            ],
            [
             -8.7155,
             41.9596
            ],
            [
             -8.7261,
             41.9525
            ],
            [
             -8.7333,
             41.9454
            ],
            [
             -8.7386,
             41.9383
            ],
            [
             -8.7393,
             41.9374
            ],
            [
             -8.7472,
             41.9266
            ],
            [
             -8.7492,
             41.924
            ],
            [
             -8.7795,
             41.9076
            ],
            [
             -8.8084,
             41.8919
            ],
            [
             -8.8173,
             41.88
            ],
            [
             -8.8197,
             41.8768
            ],
            [
             -8.8198,
             41.8767
            ],
            [
             -8.8226,
             41.8749
            ],
            [
             -8.8249,
             41.8747
            ],
            [
             -8.8274,
             41.8745
            ],
            [
             -8.8284,
             41.8744
            ],
            [
             -8.8409,
             41.8651
            ],
            [
             -8.8441,
             41.8613
            ],
            [
             -8.8487,
             41.8559
            ],
            [
             -8.8569,
             41.8462
            ],
            [
             -8.8586,
             41.8442
            ],
            [
             -8.8592,
             41.8424
            ],
            [
             -8.8619,
             41.8344
            ],
            [
             -8.8619,
             41.8343
            ],
            [
             -8.8618,
             41.8276
            ],
            [
             -8.8599,
             41.8208
            ],
            [
             -8.8563,
             41.8083
            ],
            [
             -8.856,
             41.8072
            ],
            [
             -8.8559,
             41.8069
            ],
            [
             -8.8542,
             41.8009
            ],
            [
             -8.8549,
             41.7958
            ],
            [
             -8.857,
             41.7783
            ],
            [
             -8.8633,
             41.7681
            ],
            [
             -8.8645,
             41.7661
            ],
            [
             -8.8658,
             41.7574
            ],
            [
             -8.8645,
             41.7471
            ],
            [
             -8.8572,
             41.7201
            ],
            [
             -8.8536,
             41.7108
            ],
            [
             -8.8476,
             41.7028
            ],
            [
             -8.8351,
             41.6982
            ],
            [
             -8.8268,
             41.6978
            ],
            [
             -8.8255,
             41.6977
            ],
            [
             -8.8246,
             41.6977
            ],
            [
             -8.8237,
             41.6967
            ],
            [
             -8.8227,
             41.6957
            ]
           ]
          ],
          "type": "MultiLineString"
         },
         "properties": {
          "F_CODE_DES": "Road",
          "ISO": "PRT",
          "ISOCOUNTRY": "PORTUGAL",
          "MED_DESCRI": "Without Median",
          "RTT_DESCRI": "Primary Route"
         },
         "type": "Feature"
        }
       ],
       "type": "FeatureCollection"
      },
      "text/html": [
       "<table class=\"dataframe\">\n",
       "<caption>A sf: 6 × 6</caption>\n",
       "<thead>\n",
       "\t<tr><th scope=col>MED_DESCRI</th><th scope=col>RTT_DESCRI</th><th scope=col>F_CODE_DES</th><th scope=col>ISO</th><th scope=col>ISOCOUNTRY</th><th scope=col>geometry</th></tr>\n",
       "\t<tr><th scope=col>&lt;chr&gt;</th><th scope=col>&lt;chr&gt;</th><th scope=col>&lt;chr&gt;</th><th scope=col>&lt;chr&gt;</th><th scope=col>&lt;chr&gt;</th><th scope=col>&lt;MULTILINESTRING [°]&gt;</th></tr>\n",
       "</thead>\n",
       "<tbody>\n",
       "\t<tr><td>Without Median</td><td>Secondary Route</td><td>Road</td><td>PRT</td><td>PORTUGAL</td><td>MULTILINESTRING ((-8.228927...</td></tr>\n",
       "\t<tr><td>Without Median</td><td>Secondary Route</td><td>Road</td><td>PRT</td><td>PORTUGAL</td><td>MULTILINESTRING ((-8.589778...</td></tr>\n",
       "\t<tr><td>Without Median</td><td>Secondary Route</td><td>Road</td><td>PRT</td><td>PORTUGAL</td><td>MULTILINESTRING ((-8.589778...</td></tr>\n",
       "\t<tr><td>Without Median</td><td>Secondary Route</td><td>Road</td><td>PRT</td><td>PORTUGAL</td><td>MULTILINESTRING ((-8.633639...</td></tr>\n",
       "\t<tr><td>Without Median</td><td>Primary Route  </td><td>Road</td><td>PRT</td><td>PORTUGAL</td><td>MULTILINESTRING ((-8.633639...</td></tr>\n",
       "\t<tr><td>Without Median</td><td>Primary Route  </td><td>Road</td><td>PRT</td><td>PORTUGAL</td><td>MULTILINESTRING ((-8.651361...</td></tr>\n",
       "</tbody>\n",
       "</table>\n"
      ],
      "text/latex": [
       "A sf: 6 × 6\n",
       "\\begin{tabular}{llllll}\n",
       " MED\\_DESCRI & RTT\\_DESCRI & F\\_CODE\\_DES & ISO & ISOCOUNTRY & geometry\\\\\n",
       " <chr> & <chr> & <chr> & <chr> & <chr> & <MULTILINESTRING {[}°{]}>\\\\\n",
       "\\hline\n",
       "\t Without Median & Secondary Route & Road & PRT & PORTUGAL & MULTILINESTRING ((-8.228927...\\\\\n",
       "\t Without Median & Secondary Route & Road & PRT & PORTUGAL & MULTILINESTRING ((-8.589778...\\\\\n",
       "\t Without Median & Secondary Route & Road & PRT & PORTUGAL & MULTILINESTRING ((-8.589778...\\\\\n",
       "\t Without Median & Secondary Route & Road & PRT & PORTUGAL & MULTILINESTRING ((-8.633639...\\\\\n",
       "\t Without Median & Primary Route   & Road & PRT & PORTUGAL & MULTILINESTRING ((-8.633639...\\\\\n",
       "\t Without Median & Primary Route   & Road & PRT & PORTUGAL & MULTILINESTRING ((-8.651361...\\\\\n",
       "\\end{tabular}\n"
      ],
      "text/markdown": [
       "\n",
       "A sf: 6 × 6\n",
       "\n",
       "| MED_DESCRI &lt;chr&gt; | RTT_DESCRI &lt;chr&gt; | F_CODE_DES &lt;chr&gt; | ISO &lt;chr&gt; | ISOCOUNTRY &lt;chr&gt; | geometry &lt;MULTILINESTRING [°]&gt; |\n",
       "|---|---|---|---|---|---|\n",
       "| Without Median | Secondary Route | Road | PRT | PORTUGAL | MULTILINESTRING ((-8.228927... |\n",
       "| Without Median | Secondary Route | Road | PRT | PORTUGAL | MULTILINESTRING ((-8.589778... |\n",
       "| Without Median | Secondary Route | Road | PRT | PORTUGAL | MULTILINESTRING ((-8.589778... |\n",
       "| Without Median | Secondary Route | Road | PRT | PORTUGAL | MULTILINESTRING ((-8.633639... |\n",
       "| Without Median | Primary Route   | Road | PRT | PORTUGAL | MULTILINESTRING ((-8.633639... |\n",
       "| Without Median | Primary Route   | Road | PRT | PORTUGAL | MULTILINESTRING ((-8.651361... |\n",
       "\n"
      ],
      "text/plain": [
       "  MED_DESCRI     RTT_DESCRI      F_CODE_DES ISO ISOCOUNTRY\n",
       "1 Without Median Secondary Route Road       PRT PORTUGAL  \n",
       "2 Without Median Secondary Route Road       PRT PORTUGAL  \n",
       "3 Without Median Secondary Route Road       PRT PORTUGAL  \n",
       "4 Without Median Secondary Route Road       PRT PORTUGAL  \n",
       "5 Without Median Primary Route   Road       PRT PORTUGAL  \n",
       "6 Without Median Primary Route   Road       PRT PORTUGAL  \n",
       "  geometry                      \n",
       "1 MULTILINESTRING ((-8.228927...\n",
       "2 MULTILINESTRING ((-8.589778...\n",
       "3 MULTILINESTRING ((-8.589778...\n",
       "4 MULTILINESTRING ((-8.633639...\n",
       "5 MULTILINESTRING ((-8.633639...\n",
       "6 MULTILINESTRING ((-8.651361..."
      ]
     },
     "metadata": {},
     "output_type": "display_data"
    }
   ],
   "source": [
    "#03-03/05\n",
    "head(roads_pt)"
   ]
  },
  {
   "cell_type": "code",
   "execution_count": 17,
   "id": "056f7502-7f33-4e8b-8dd6-390ca73ef635",
   "metadata": {},
   "outputs": [
    {
     "data": {
      "image/png": "[encoded data removed]",
      "text/plain": [
       "plot without title"
      ]
     },
     "metadata": {
      "image/png": {
       "height": 420,
       "width": 420
      }
     },
     "output_type": "display_data"
    }
   ],
   "source": [
    "#03-03/06\n",
    "plot(roads_pt$geometry)"
   ]
  },
  {
   "cell_type": "raw",
   "id": "e977856e-312d-47dc-a902-fdd1af1df654",
   "metadata": {},
   "source": [
    "#03-04\n",
    "# Define the URL for the earthquake data\n",
    "url = \"https://earthquake.usgs.gov/fdsnws/event/1/query?format=csv&starttime=2023-01-01&endtime=2023-01-31&minmagnitude=5\"\n",
    "\n",
    "# Load the earthquake data into a data frame\n",
    "earthquakes = read.csv(url)\n",
    "\n",
    "# Subset the relevant columns from the data frame\n",
    "earthquakes = earthquakes[, c(\"time\", \"mag\", \"place\", \"type\")]\n",
    "\n",
    "# Summarise the earthquake data\n",
    "head(earthquakes)"
   ]
  },
  {
   "cell_type": "code",
   "execution_count": null,
   "id": "ed88966b-a0fa-4c58-ba79-bbcbc7ef90e8",
   "metadata": {},
   "outputs": [],
   "source": []
  }
 ],
 "metadata": {
  "kernelspec": {
   "display_name": "R",
   "language": "R",
   "name": "ir"
  },
  "language_info": {
   "codemirror_mode": "r",
   "file_extension": ".r",
   "mimetype": "text/x-r-source",
   "name": "R",
   "pygments_lexer": "r",
   "version": "4.3.1"
  }
 },
 "nbformat": 4,
 "nbformat_minor": 5
}
