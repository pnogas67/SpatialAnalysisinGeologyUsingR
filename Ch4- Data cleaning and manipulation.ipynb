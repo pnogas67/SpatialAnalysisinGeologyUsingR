{
 "cells": [
  {
   "cell_type": "markdown",
   "id": "448511d5-b0d5-42cd-bf63-a85acdfbfd55",
   "metadata": {},
   "source": [
    "# Spatial Analysis in Geology using R\n",
    "\n",
    "## by Pedro Nogueira"
   ]
  },
  {
   "cell_type": "markdown",
   "id": "f8a28fde-741e-42a3-ac71-0dfa00972824",
   "metadata": {},
   "source": [
    "## 4. Data cleaning and manipulation"
   ]
  },
  {
   "cell_type": "code",
   "execution_count": 1,
   "id": "fbdf3ad7-4b51-4281-9a9e-649d71af5a86",
   "metadata": {},
   "outputs": [
    {
     "data": {
      "text/html": [
       "'numeric'"
      ],
      "text/latex": [
       "'numeric'"
      ],
      "text/markdown": [
       "'numeric'"
      ],
      "text/plain": [
       "[1] \"numeric\""
      ]
     },
     "metadata": {},
     "output_type": "display_data"
    }
   ],
   "source": [
    "#04-01\n",
    "\n",
    "x = c(1, 2, 3)\n",
    "\n",
    "class(x)"
   ]
  },
  {
   "cell_type": "code",
   "execution_count": 2,
   "id": "b75f1d53-91a7-414f-9362-e722ae7273ba",
   "metadata": {},
   "outputs": [
    {
     "name": "stdout",
     "output_type": "stream",
     "text": [
      "'data.frame':\t2 obs. of  2 variables:\n",
      " $ mineral_name: chr  \"quartz\" \"K feldspar\"\n",
      " $ hardness    : num  7 6\n"
     ]
    }
   ],
   "source": [
    "#04-02\n",
    "\n",
    "# Create a data frame named df\n",
    "df = data.frame(mineral_name = c(\"quartz\",\"K feldspar\"), hardness = c(7, 6))\n",
    "\n",
    "str(df)"
   ]
  },
  {
   "cell_type": "code",
   "execution_count": 3,
   "id": "a8cdcbb6-07b1-4e82-8282-172bfe8fa8ca",
   "metadata": {},
   "outputs": [
    {
     "data": {
      "text/html": [
       "'double'"
      ],
      "text/latex": [
       "'double'"
      ],
      "text/markdown": [
       "'double'"
      ],
      "text/plain": [
       "[1] \"double\""
      ]
     },
     "metadata": {},
     "output_type": "display_data"
    }
   ],
   "source": [
    "#04-03\n",
    "x = c(1, 2, 3)\n",
    "\n",
    "typeof(x)"
   ]
  },
  {
   "cell_type": "code",
   "execution_count": 4,
   "id": "b836553d-8785-4095-8215-24b970ebc03e",
   "metadata": {},
   "outputs": [
    {
     "data": {
      "text/html": [
       "3"
      ],
      "text/latex": [
       "3"
      ],
      "text/markdown": [
       "3"
      ],
      "text/plain": [
       "[1] 3"
      ]
     },
     "metadata": {},
     "output_type": "display_data"
    }
   ],
   "source": [
    "#04-04\n",
    "x = c(1, 2, 3)\n",
    "\n",
    "length(x)"
   ]
  },
  {
   "cell_type": "code",
   "execution_count": 5,
   "id": "7f1ff0a0-7659-4b29-bbaa-c96185297a31",
   "metadata": {},
   "outputs": [
    {
     "data": {
      "text/html": [
       "<dl>\n",
       "\t<dt>$names</dt>\n",
       "\t\t<dd><style>\n",
       ".list-inline {list-style: none; margin:0; padding: 0}\n",
       ".list-inline>li {display: inline-block}\n",
       ".list-inline>li:not(:last-child)::after {content: \"\\00b7\"; padding: 0 .5ex}\n",
       "</style>\n",
       "<ol class=list-inline><li>'mineral_name'</li><li>'hardness'</li></ol>\n",
       "</dd>\n",
       "\t<dt>$class</dt>\n",
       "\t\t<dd>'data.frame'</dd>\n",
       "\t<dt>$row.names</dt>\n",
       "\t\t<dd><style>\n",
       ".list-inline {list-style: none; margin:0; padding: 0}\n",
       ".list-inline>li {display: inline-block}\n",
       ".list-inline>li:not(:last-child)::after {content: \"\\00b7\"; padding: 0 .5ex}\n",
       "</style>\n",
       "<ol class=list-inline><li>1</li><li>2</li></ol>\n",
       "</dd>\n",
       "</dl>\n"
      ],
      "text/latex": [
       "\\begin{description}\n",
       "\\item[\\$names] \\begin{enumerate*}\n",
       "\\item 'mineral\\_name'\n",
       "\\item 'hardness'\n",
       "\\end{enumerate*}\n",
       "\n",
       "\\item[\\$class] 'data.frame'\n",
       "\\item[\\$row.names] \\begin{enumerate*}\n",
       "\\item 1\n",
       "\\item 2\n",
       "\\end{enumerate*}\n",
       "\n",
       "\\end{description}\n"
      ],
      "text/markdown": [
       "$names\n",
       ":   1. 'mineral_name'\n",
       "2. 'hardness'\n",
       "\n",
       "\n",
       "\n",
       "$class\n",
       ":   'data.frame'\n",
       "$row.names\n",
       ":   1. 1\n",
       "2. 2\n",
       "\n",
       "\n",
       "\n",
       "\n",
       "\n"
      ],
      "text/plain": [
       "$names\n",
       "[1] \"mineral_name\" \"hardness\"    \n",
       "\n",
       "$class\n",
       "[1] \"data.frame\"\n",
       "\n",
       "$row.names\n",
       "[1] 1 2\n"
      ]
     },
     "metadata": {},
     "output_type": "display_data"
    }
   ],
   "source": [
    "#04-05\n",
    "# Create a data frame named df\n",
    "df = data.frame(mineral_name = c(\"quartz\",\"K feldspar\"), hardness = c(7, 6))\n",
    "\n",
    "\n",
    "# Verify its attributes\n",
    "attributes(df)"
   ]
  },
  {
   "cell_type": "code",
   "execution_count": 6,
   "id": "7441db3f-3555-4479-bd0b-823678cff6b6",
   "metadata": {},
   "outputs": [],
   "source": [
    "#04-06\n",
    "# Generate some artificial data\n",
    "set.seed(1)\n",
    "data = data.frame(x = rnorm(100), y = rnorm(100), z = rnorm(100))\n",
    "\n",
    "# Subset the data to keep only observations where x is greater than 0\n",
    "data_subset = data[data$x > 0, ]"
   ]
  },
  {
   "cell_type": "code",
   "execution_count": 7,
   "id": "4234d5b4-b68b-4609-b4f0-f6cb57642ad7",
   "metadata": {},
   "outputs": [
    {
     "data": {
      "text/plain": [
       "       x                 y                  z            \n",
       " Min.   :-2.2147   Min.   :-1.91436   Min.   :-2.888921  \n",
       " 1st Qu.:-0.4942   1st Qu.:-0.65105   1st Qu.:-0.455149  \n",
       " Median : 0.1139   Median :-0.17722   Median :-0.001606  \n",
       " Mean   : 0.1089   Mean   :-0.03781   Mean   : 0.029673  \n",
       " 3rd Qu.: 0.6915   3rd Qu.: 0.50090   3rd Qu.: 0.698491  \n",
       " Max.   : 2.4016   Max.   : 2.30798   Max.   : 2.649167  "
      ]
     },
     "metadata": {},
     "output_type": "display_data"
    },
    {
     "data": {
      "text/plain": [
       "       x                  y                  z            \n",
       " Min.   :0.001105   Min.   :-1.66497   Min.   :-2.285236  \n",
       " 1st Qu.:0.374432   1st Qu.:-0.49535   1st Qu.:-0.637936  \n",
       " Median :0.615276   Median :-0.04581   Median :-0.001606  \n",
       " Mean   :0.764452   Mean   : 0.05321   Mean   :-0.012721  \n",
       " 3rd Qu.:1.090794   3rd Qu.: 0.51431   3rd Qu.: 0.660860  \n",
       " Max.   :2.401618   Max.   : 2.30798   Max.   : 1.778429  "
      ]
     },
     "metadata": {},
     "output_type": "display_data"
    }
   ],
   "source": [
    "#04-07\n",
    "# summarise all the data\n",
    "summary(data)\n",
    "\n",
    "# summarise the subset of the data\n",
    "summary(data_subset)"
   ]
  },
  {
   "cell_type": "code",
   "execution_count": 9,
   "id": "b17c8302-83a8-483b-b438-1ac83bd25c45",
   "metadata": {},
   "outputs": [],
   "source": [
    "#04-08\n",
    "# Load the dplyr package\n",
    "library(dplyr)\n",
    "\n",
    "# Generate some artificial data\n",
    "set.seed(1)\n",
    "data = data.frame(x = rnorm(100), y = rnorm(100), z = rnorm(100))\n",
    "\n",
    "# Subset the data to keep only observations where x is greater than 0\n",
    "data_subset = filter(data, x > 0)"
   ]
  },
  {
   "cell_type": "code",
   "execution_count": 10,
   "id": "e5a89738-6534-42f8-b99b-19a359f6ef53",
   "metadata": {
    "scrolled": true
   },
   "outputs": [
    {
     "data": {
      "text/plain": [
       "       x                 y                  z            \n",
       " Min.   :-2.2147   Min.   :-1.91436   Min.   :-2.888921  \n",
       " 1st Qu.:-0.4942   1st Qu.:-0.65105   1st Qu.:-0.455149  \n",
       " Median : 0.1139   Median :-0.17722   Median :-0.001606  \n",
       " Mean   : 0.1089   Mean   :-0.03781   Mean   : 0.029673  \n",
       " 3rd Qu.: 0.6915   3rd Qu.: 0.50090   3rd Qu.: 0.698491  \n",
       " Max.   : 2.4016   Max.   : 2.30798   Max.   : 2.649167  "
      ]
     },
     "metadata": {},
     "output_type": "display_data"
    },
    {
     "data": {
      "text/plain": [
       "       x                  y                  z            \n",
       " Min.   :0.001105   Min.   :-1.66497   Min.   :-2.285236  \n",
       " 1st Qu.:0.374432   1st Qu.:-0.49535   1st Qu.:-0.637936  \n",
       " Median :0.615276   Median :-0.04581   Median :-0.001606  \n",
       " Mean   :0.764452   Mean   : 0.05321   Mean   :-0.012721  \n",
       " 3rd Qu.:1.090794   3rd Qu.: 0.51431   3rd Qu.: 0.660860  \n",
       " Max.   :2.401618   Max.   : 2.30798   Max.   : 1.778429  "
      ]
     },
     "metadata": {},
     "output_type": "display_data"
    }
   ],
   "source": [
    "#04-07\n",
    "# summarise all the data\n",
    "summary(data)\n",
    "\n",
    "# summarise the subset of the data\n",
    "summary(data_subset)"
   ]
  },
  {
   "cell_type": "code",
   "execution_count": 13,
   "id": "bbb0d0b5-ee90-4418-8905-2c4e1479cb09",
   "metadata": {},
   "outputs": [],
   "source": [
    "#04-09\n",
    "# Generate some artificial data\n",
    "set.seed(1)\n",
    "data = data.frame(x = rnorm(100), y = rnorm(100), z = rnorm(100), group = sample(c(\"A\", \"B\", \"C\"), 100, replace = TRUE))\n",
    "\n",
    "# Subset the data to keep only observations where x is greater than 0 and y is less than -0.5, and group is \"A\" or \"B\"\n",
    "data_subset = filter(data, x > 0 & y < -0.5 & (group == \"A\" | group == \"B\"))"
   ]
  },
  {
   "cell_type": "code",
   "execution_count": 14,
   "id": "ec5104ad-75f0-48e9-b8fb-411dad86e9af",
   "metadata": {},
   "outputs": [
    {
     "data": {
      "text/plain": [
       "       x                 y                  z                group          \n",
       " Min.   :-2.2147   Min.   :-1.91436   Min.   :-2.888921   Length:100        \n",
       " 1st Qu.:-0.4942   1st Qu.:-0.65105   1st Qu.:-0.455149   Class :character  \n",
       " Median : 0.1139   Median :-0.17722   Median :-0.001606   Mode  :character  \n",
       " Mean   : 0.1089   Mean   :-0.03781   Mean   : 0.029673                     \n",
       " 3rd Qu.: 0.6915   3rd Qu.: 0.50090   3rd Qu.: 0.698491                     \n",
       " Max.   : 2.4016   Max.   : 2.30798   Max.   : 2.649167                     "
      ]
     },
     "metadata": {},
     "output_type": "display_data"
    },
    {
     "data": {
      "text/plain": [
       "       x                y                 z              group          \n",
       " Min.   :0.2671   Min.   :-1.6406   Min.   :-2.2852   Length:8          \n",
       " 1st Qu.:0.5012   1st Qu.:-1.2522   1st Qu.: 0.2167   Class :character  \n",
       " Median :0.7254   Median :-1.0616   Median : 0.6899   Mode  :character  \n",
       " Mean   :0.9167   Mean   :-1.0836   Mean   : 0.4273                     \n",
       " 3rd Qu.:1.2670   3rd Qu.:-0.8775   3rd Qu.: 1.0519                     \n",
       " Max.   :1.9804   Max.   :-0.6546   Max.   : 1.7784                     "
      ]
     },
     "metadata": {},
     "output_type": "display_data"
    }
   ],
   "source": [
    "#04-07\n",
    "# summarise all the data\n",
    "summary(data)\n",
    "\n",
    "# summarise the subset of the data\n",
    "summary(data_subset)"
   ]
  },
  {
   "cell_type": "markdown",
   "id": "159e970f-9fe2-41c6-89d3-376860f4f4ce",
   "metadata": {},
   "source": [
    "### 4.2.2. Subset text data"
   ]
  },
  {
   "cell_type": "code",
   "execution_count": 16,
   "id": "a83faf4d-b5ee-41ec-a16a-7596559bb146",
   "metadata": {},
   "outputs": [
    {
     "data": {
      "text/html": [
       "<style>\n",
       ".list-inline {list-style: none; margin:0; padding: 0}\n",
       ".list-inline>li {display: inline-block}\n",
       ".list-inline>li:not(:last-child)::after {content: \"\\00b7\"; padding: 0 .5ex}\n",
       "</style>\n",
       "<ol class=list-inline><li>'Granite'</li><li>'Granodiorite'</li><li>'Granite Porphyry'</li><li>'Granite Gneiss'</li></ol>\n"
      ],
      "text/latex": [
       "\\begin{enumerate*}\n",
       "\\item 'Granite'\n",
       "\\item 'Granodiorite'\n",
       "\\item 'Granite Porphyry'\n",
       "\\item 'Granite Gneiss'\n",
       "\\end{enumerate*}\n"
      ],
      "text/markdown": [
       "1. 'Granite'\n",
       "2. 'Granodiorite'\n",
       "3. 'Granite Porphyry'\n",
       "4. 'Granite Gneiss'\n",
       "\n",
       "\n"
      ],
      "text/plain": [
       "[1] \"Granite\"          \"Granodiorite\"     \"Granite Porphyry\" \"Granite Gneiss\"  "
      ]
     },
     "metadata": {},
     "output_type": "display_data"
    }
   ],
   "source": [
    "#04-10\n",
    "# Create a sample data frame with 13 rock names\n",
    "rock_df = data.frame(rocks = c(\"Granite\", \"Gneiss\", \"Limestone\", \"Sandstone\", \"Marble\", \"Granodiorite\", \"Schist\", \"Gabbro\", \"Granite Porphyry\", \"Dolomite\", \"Basalt\", \"Granite Gneiss\"))\n",
    "\n",
    "# Select only the rock names that start with \"gran\" using base R\n",
    "base_select = rock_df[grep(\"^Gran\", rock_df$rocks), ]\n",
    "\n",
    "# View the result\n",
    "base_select"
   ]
  },
  {
   "cell_type": "code",
   "execution_count": 17,
   "id": "a453bd88-9c5f-4531-96ce-9892bc1f0320",
   "metadata": {},
   "outputs": [
    {
     "data": {
      "text/html": [
       "<table class=\"dataframe\">\n",
       "<caption>A data.frame: 4 × 1</caption>\n",
       "<thead>\n",
       "\t<tr><th scope=col>rocks</th></tr>\n",
       "\t<tr><th scope=col>&lt;chr&gt;</th></tr>\n",
       "</thead>\n",
       "<tbody>\n",
       "\t<tr><td>Granite         </td></tr>\n",
       "\t<tr><td>Granodiorite    </td></tr>\n",
       "\t<tr><td>Granite Porphyry</td></tr>\n",
       "\t<tr><td>Granite Gneiss  </td></tr>\n",
       "</tbody>\n",
       "</table>\n"
      ],
      "text/latex": [
       "A data.frame: 4 × 1\n",
       "\\begin{tabular}{l}\n",
       " rocks\\\\\n",
       " <chr>\\\\\n",
       "\\hline\n",
       "\t Granite         \\\\\n",
       "\t Granodiorite    \\\\\n",
       "\t Granite Porphyry\\\\\n",
       "\t Granite Gneiss  \\\\\n",
       "\\end{tabular}\n"
      ],
      "text/markdown": [
       "\n",
       "A data.frame: 4 × 1\n",
       "\n",
       "| rocks &lt;chr&gt; |\n",
       "|---|\n",
       "| Granite          |\n",
       "| Granodiorite     |\n",
       "| Granite Porphyry |\n",
       "| Granite Gneiss   |\n",
       "\n"
      ],
      "text/plain": [
       "  rocks           \n",
       "1 Granite         \n",
       "2 Granodiorite    \n",
       "3 Granite Porphyry\n",
       "4 Granite Gneiss  "
      ]
     },
     "metadata": {},
     "output_type": "display_data"
    }
   ],
   "source": [
    "#04-11\n",
    "# Load the dply and stringr package\n",
    "library(dplyr)\n",
    "library(stringr)\n",
    "\n",
    "# Select only the rock names that start with \"gran\"\n",
    "gran_select = filter(rock_df, str_detect(rocks, \"^Gran\"))\n",
    "\n",
    "# View the result\n",
    "gran_select"
   ]
  },
  {
   "cell_type": "markdown",
   "id": "c4639ba1-913a-4efd-95b1-fb16b1dee0ca",
   "metadata": {},
   "source": [
    "## 4..3. Missing values"
   ]
  },
  {
   "cell_type": "code",
   "execution_count": 18,
   "id": "a7ee9d59-7e1f-473e-9a14-a15ceca44efc",
   "metadata": {},
   "outputs": [
    {
     "data": {
      "text/html": [
       "<style>\n",
       ".list-inline {list-style: none; margin:0; padding: 0}\n",
       ".list-inline>li {display: inline-block}\n",
       ".list-inline>li:not(:last-child)::after {content: \"\\00b7\"; padding: 0 .5ex}\n",
       "</style>\n",
       "<ol class=list-inline><li>FALSE</li><li>FALSE</li><li>TRUE</li><li>FALSE</li><li>FALSE</li></ol>\n"
      ],
      "text/latex": [
       "\\begin{enumerate*}\n",
       "\\item FALSE\n",
       "\\item FALSE\n",
       "\\item TRUE\n",
       "\\item FALSE\n",
       "\\item FALSE\n",
       "\\end{enumerate*}\n"
      ],
      "text/markdown": [
       "1. FALSE\n",
       "2. FALSE\n",
       "3. TRUE\n",
       "4. FALSE\n",
       "5. FALSE\n",
       "\n",
       "\n"
      ],
      "text/plain": [
       "[1] FALSE FALSE  TRUE FALSE FALSE"
      ]
     },
     "metadata": {},
     "output_type": "display_data"
    }
   ],
   "source": [
    "#04-12\n",
    "# Create the data\n",
    "x = c(1, 2, NA, 4, 5)\n",
    "\n",
    "# View the result\n",
    "is.na(x)"
   ]
  },
  {
   "cell_type": "code",
   "execution_count": 19,
   "id": "bb9033da-d45e-40a9-9744-dd9d84028196",
   "metadata": {},
   "outputs": [
    {
     "data": {
      "text/html": [
       "<table class=\"dataframe\">\n",
       "<caption>A data.frame: 3 × 2</caption>\n",
       "<thead>\n",
       "\t<tr><th></th><th scope=col>col1</th><th scope=col>col2</th></tr>\n",
       "\t<tr><th></th><th scope=col>&lt;dbl&gt;</th><th scope=col>&lt;dbl&gt;</th></tr>\n",
       "</thead>\n",
       "<tbody>\n",
       "\t<tr><th scope=row>2</th><td>12</td><td>6</td></tr>\n",
       "\t<tr><th scope=row>4</th><td>14</td><td>8</td></tr>\n",
       "\t<tr><th scope=row>5</th><td>15</td><td>9</td></tr>\n",
       "</tbody>\n",
       "</table>\n"
      ],
      "text/latex": [
       "A data.frame: 3 × 2\n",
       "\\begin{tabular}{r|ll}\n",
       "  & col1 & col2\\\\\n",
       "  & <dbl> & <dbl>\\\\\n",
       "\\hline\n",
       "\t2 & 12 & 6\\\\\n",
       "\t4 & 14 & 8\\\\\n",
       "\t5 & 15 & 9\\\\\n",
       "\\end{tabular}\n"
      ],
      "text/markdown": [
       "\n",
       "A data.frame: 3 × 2\n",
       "\n",
       "| <!--/--> | col1 &lt;dbl&gt; | col2 &lt;dbl&gt; |\n",
       "|---|---|---|\n",
       "| 2 | 12 | 6 |\n",
       "| 4 | 14 | 8 |\n",
       "| 5 | 15 | 9 |\n",
       "\n"
      ],
      "text/plain": [
       "  col1 col2\n",
       "2 12   6   \n",
       "4 14   8   \n",
       "5 15   9   "
      ]
     },
     "metadata": {},
     "output_type": "display_data"
    }
   ],
   "source": [
    "#04-13\n",
    "# Create the data\n",
    "y = data.frame(col1 = c(11, 12, NA, 14, 15), col2 = c(NA, 6, 7, 8, 9))\n",
    "\n",
    "# View the result\n",
    "na.omit(y)"
   ]
  },
  {
   "cell_type": "code",
   "execution_count": 20,
   "id": "cb357c74-6b31-48a4-8f7f-6ae69f9712ee",
   "metadata": {},
   "outputs": [
    {
     "data": {
      "text/html": [
       "3"
      ],
      "text/latex": [
       "3"
      ],
      "text/markdown": [
       "3"
      ],
      "text/plain": [
       "[1] 3"
      ]
     },
     "metadata": {},
     "output_type": "display_data"
    }
   ],
   "source": [
    "#04-14\n",
    "# Create the data\n",
    "x = c(1, 2, NA, 4, 5)\n",
    "\n",
    "# View the result\n",
    "mean(x, na.rm = TRUE)"
   ]
  },
  {
   "cell_type": "code",
   "execution_count": 21,
   "id": "4fa280ea-ce94-42b7-bd54-33cf67392066",
   "metadata": {},
   "outputs": [
    {
     "data": {
      "text/html": [
       "<table class=\"dataframe\">\n",
       "<caption>A data.frame: 5 × 2</caption>\n",
       "<thead>\n",
       "\t<tr><th scope=col>x</th><th scope=col>y</th></tr>\n",
       "\t<tr><th scope=col>&lt;dbl&gt;</th><th scope=col>&lt;dbl&gt;</th></tr>\n",
       "</thead>\n",
       "<tbody>\n",
       "\t<tr><td>1</td><td>0</td></tr>\n",
       "\t<tr><td>2</td><td>2</td></tr>\n",
       "\t<tr><td>0</td><td>3</td></tr>\n",
       "\t<tr><td>4</td><td>4</td></tr>\n",
       "\t<tr><td>5</td><td>0</td></tr>\n",
       "</tbody>\n",
       "</table>\n"
      ],
      "text/latex": [
       "A data.frame: 5 × 2\n",
       "\\begin{tabular}{ll}\n",
       " x & y\\\\\n",
       " <dbl> & <dbl>\\\\\n",
       "\\hline\n",
       "\t 1 & 0\\\\\n",
       "\t 2 & 2\\\\\n",
       "\t 0 & 3\\\\\n",
       "\t 4 & 4\\\\\n",
       "\t 5 & 0\\\\\n",
       "\\end{tabular}\n"
      ],
      "text/markdown": [
       "\n",
       "A data.frame: 5 × 2\n",
       "\n",
       "| x &lt;dbl&gt; | y &lt;dbl&gt; |\n",
       "|---|---|\n",
       "| 1 | 0 |\n",
       "| 2 | 2 |\n",
       "| 0 | 3 |\n",
       "| 4 | 4 |\n",
       "| 5 | 0 |\n",
       "\n"
      ],
      "text/plain": [
       "  x y\n",
       "1 1 0\n",
       "2 2 2\n",
       "3 0 3\n",
       "4 4 4\n",
       "5 5 0"
      ]
     },
     "metadata": {},
     "output_type": "display_data"
    }
   ],
   "source": [
    "#04-15\n",
    "# Create the data frame\n",
    "df = data.frame(x = c(1, 2, NA, 4, 5), y = c(NA, 2, 3, 4, NA))\n",
    "\n",
    "# Impute NA values with 0\n",
    "df[is.na(df)] = 0\n",
    "\n",
    "# View the results\n",
    "df"
   ]
  },
  {
   "cell_type": "code",
   "execution_count": 22,
   "id": "25fc5ffe-3a56-460a-9dc3-37ec969b26af",
   "metadata": {},
   "outputs": [
    {
     "data": {
      "text/html": [
       "<table class=\"dataframe\">\n",
       "<caption>A data.frame: 5 × 2</caption>\n",
       "<thead>\n",
       "\t<tr><th scope=col>x</th><th scope=col>y</th></tr>\n",
       "\t<tr><th scope=col>&lt;dbl&gt;</th><th scope=col>&lt;dbl&gt;</th></tr>\n",
       "</thead>\n",
       "<tbody>\n",
       "\t<tr><td>1</td><td>3</td></tr>\n",
       "\t<tr><td>2</td><td>2</td></tr>\n",
       "\t<tr><td>3</td><td>3</td></tr>\n",
       "\t<tr><td>4</td><td>4</td></tr>\n",
       "\t<tr><td>5</td><td>3</td></tr>\n",
       "</tbody>\n",
       "</table>\n"
      ],
      "text/latex": [
       "A data.frame: 5 × 2\n",
       "\\begin{tabular}{ll}\n",
       " x & y\\\\\n",
       " <dbl> & <dbl>\\\\\n",
       "\\hline\n",
       "\t 1 & 3\\\\\n",
       "\t 2 & 2\\\\\n",
       "\t 3 & 3\\\\\n",
       "\t 4 & 4\\\\\n",
       "\t 5 & 3\\\\\n",
       "\\end{tabular}\n"
      ],
      "text/markdown": [
       "\n",
       "A data.frame: 5 × 2\n",
       "\n",
       "| x &lt;dbl&gt; | y &lt;dbl&gt; |\n",
       "|---|---|\n",
       "| 1 | 3 |\n",
       "| 2 | 2 |\n",
       "| 3 | 3 |\n",
       "| 4 | 4 |\n",
       "| 5 | 3 |\n",
       "\n"
      ],
      "text/plain": [
       "  x y\n",
       "1 1 3\n",
       "2 2 2\n",
       "3 3 3\n",
       "4 4 4\n",
       "5 5 3"
      ]
     },
     "metadata": {},
     "output_type": "display_data"
    }
   ],
   "source": [
    "#04-16\n",
    "# Create the data frame\n",
    "df = data.frame(x = c(1, 2, NA, 4, 5), y = c(NA, 2, 3, 4, NA))\n",
    "\n",
    "# Impute NA values with mean\n",
    "df$x[is.na(df$x)] = mean(df$x, na.rm = TRUE)\n",
    "df$y[is.na(df$y)] = mean(df$y, na.rm = TRUE)\n",
    "\n",
    "# View the results\n",
    "df"
   ]
  },
  {
   "cell_type": "markdown",
   "id": "2c27ef5f-daf3-4675-a6b6-86241b1728f1",
   "metadata": {},
   "source": [
    "## 4.4. Transforming variables in R"
   ]
  },
  {
   "cell_type": "code",
   "execution_count": 23,
   "id": "bdbc038a-1d3c-47e1-967c-b18118b72e14",
   "metadata": {},
   "outputs": [
    {
     "data": {
      "text/html": [
       "<style>\n",
       ".list-inline {list-style: none; margin:0; padding: 0}\n",
       ".list-inline>li {display: inline-block}\n",
       ".list-inline>li:not(:last-child)::after {content: \"\\00b7\"; padding: 0 .5ex}\n",
       "</style>\n",
       "<ol class=list-inline><li>10</li><li>15</li><li>20</li><li>25</li><li>30</li></ol>\n"
      ],
      "text/latex": [
       "\\begin{enumerate*}\n",
       "\\item 10\n",
       "\\item 15\n",
       "\\item 20\n",
       "\\item 25\n",
       "\\item 30\n",
       "\\end{enumerate*}\n"
      ],
      "text/markdown": [
       "1. 10\n",
       "2. 15\n",
       "3. 20\n",
       "4. 25\n",
       "5. 30\n",
       "\n",
       "\n"
      ],
      "text/plain": [
       "[1] 10 15 20 25 30"
      ]
     },
     "metadata": {},
     "output_type": "display_data"
    }
   ],
   "source": [
    "#04-17\n",
    "# create a vector of character values\n",
    "char_vals = c(\"10\", \"15\", \"20\", \"25\", \"30\")\n",
    "\n",
    "# convert the character values to numeric using the as.numeric() function\n",
    "num_vals = as.numeric(char_vals)\n",
    "\n",
    "# view the result\n",
    "num_vals"
   ]
  },
  {
   "cell_type": "code",
   "execution_count": 24,
   "id": "6122412f-1dae-4837-b219-4f8322a6617d",
   "metadata": {},
   "outputs": [
    {
     "data": {
      "text/html": [
       "<table class=\"dataframe\">\n",
       "<caption>A data.frame: 12 × 3</caption>\n",
       "<thead>\n",
       "\t<tr><th scope=col>name</th><th scope=col>hardness</th><th scope=col>hardness_cat</th></tr>\n",
       "\t<tr><th scope=col>&lt;chr&gt;</th><th scope=col>&lt;dbl&gt;</th><th scope=col>&lt;fct&gt;</th></tr>\n",
       "</thead>\n",
       "<tbody>\n",
       "\t<tr><td>Apatite   </td><td>5.0</td><td>medium</td></tr>\n",
       "\t<tr><td>Calcite   </td><td>3.0</td><td>soft  </td></tr>\n",
       "\t<tr><td>Feldspar  </td><td>6.0</td><td>medium</td></tr>\n",
       "\t<tr><td>Fluorite  </td><td>4.0</td><td>medium</td></tr>\n",
       "\t<tr><td>Gypsum    </td><td>2.0</td><td>soft  </td></tr>\n",
       "\t<tr><td>Halite    </td><td>2.5</td><td>soft  </td></tr>\n",
       "\t<tr><td>Muscovite </td><td>3.0</td><td>soft  </td></tr>\n",
       "\t<tr><td>Orthoclase</td><td>6.0</td><td>medium</td></tr>\n",
       "\t<tr><td>Quartz    </td><td>7.0</td><td>medium</td></tr>\n",
       "\t<tr><td>Topaz     </td><td>8.0</td><td>hard  </td></tr>\n",
       "\t<tr><td>Tourmaline</td><td>7.5</td><td>hard  </td></tr>\n",
       "\t<tr><td>Zircon    </td><td>7.5</td><td>hard  </td></tr>\n",
       "</tbody>\n",
       "</table>\n"
      ],
      "text/latex": [
       "A data.frame: 12 × 3\n",
       "\\begin{tabular}{lll}\n",
       " name & hardness & hardness\\_cat\\\\\n",
       " <chr> & <dbl> & <fct>\\\\\n",
       "\\hline\n",
       "\t Apatite    & 5.0 & medium\\\\\n",
       "\t Calcite    & 3.0 & soft  \\\\\n",
       "\t Feldspar   & 6.0 & medium\\\\\n",
       "\t Fluorite   & 4.0 & medium\\\\\n",
       "\t Gypsum     & 2.0 & soft  \\\\\n",
       "\t Halite     & 2.5 & soft  \\\\\n",
       "\t Muscovite  & 3.0 & soft  \\\\\n",
       "\t Orthoclase & 6.0 & medium\\\\\n",
       "\t Quartz     & 7.0 & medium\\\\\n",
       "\t Topaz      & 8.0 & hard  \\\\\n",
       "\t Tourmaline & 7.5 & hard  \\\\\n",
       "\t Zircon     & 7.5 & hard  \\\\\n",
       "\\end{tabular}\n"
      ],
      "text/markdown": [
       "\n",
       "A data.frame: 12 × 3\n",
       "\n",
       "| name &lt;chr&gt; | hardness &lt;dbl&gt; | hardness_cat &lt;fct&gt; |\n",
       "|---|---|---|\n",
       "| Apatite    | 5.0 | medium |\n",
       "| Calcite    | 3.0 | soft   |\n",
       "| Feldspar   | 6.0 | medium |\n",
       "| Fluorite   | 4.0 | medium |\n",
       "| Gypsum     | 2.0 | soft   |\n",
       "| Halite     | 2.5 | soft   |\n",
       "| Muscovite  | 3.0 | soft   |\n",
       "| Orthoclase | 6.0 | medium |\n",
       "| Quartz     | 7.0 | medium |\n",
       "| Topaz      | 8.0 | hard   |\n",
       "| Tourmaline | 7.5 | hard   |\n",
       "| Zircon     | 7.5 | hard   |\n",
       "\n"
      ],
      "text/plain": [
       "   name       hardness hardness_cat\n",
       "1  Apatite    5.0      medium      \n",
       "2  Calcite    3.0      soft        \n",
       "3  Feldspar   6.0      medium      \n",
       "4  Fluorite   4.0      medium      \n",
       "5  Gypsum     2.0      soft        \n",
       "6  Halite     2.5      soft        \n",
       "7  Muscovite  3.0      soft        \n",
       "8  Orthoclase 6.0      medium      \n",
       "9  Quartz     7.0      medium      \n",
       "10 Topaz      8.0      hard        \n",
       "11 Tourmaline 7.5      hard        \n",
       "12 Zircon     7.5      hard        "
      ]
     },
     "metadata": {},
     "output_type": "display_data"
    }
   ],
   "source": [
    "#04-18\n",
    "# Create example data\n",
    "minerals = data.frame(name = c(\"Apatite\", \"Calcite\", \"Feldspar\", \"Fluorite\", \"Gypsum\", \"Halite\", \"Muscovite\", \"Orthoclase\", \"Quartz\", \"Topaz\", \"Tourmaline\", \"Zircon\"), hardness = c(5, 3, 6, 4, 2, 2.5, 3, 6, 7, 8, 7.5, 7.5))\n",
    "\n",
    "# Convert hardness to categorical variable\n",
    "minerals$hardness_cat = cut(minerals$hardness, breaks = c(-Inf, 3, 7, Inf), labels = c(\"soft\", \"medium\", \"hard\"))\n",
    "\n",
    "# View results\n",
    "minerals"
   ]
  },
  {
   "cell_type": "code",
   "execution_count": 25,
   "id": "f4fb3aee-d175-475a-b0f2-2dacf3307cc0",
   "metadata": {},
   "outputs": [
    {
     "data": {
      "text/html": [
       "<style>\n",
       ".list-inline {list-style: none; margin:0; padding: 0}\n",
       ".list-inline>li {display: inline-block}\n",
       ".list-inline>li:not(:last-child)::after {content: \"\\00b7\"; padding: 0 .5ex}\n",
       "</style>\n",
       "<ol class=list-inline><li>3</li><li>1</li><li>7</li><li>4</li><li>3</li><li>5</li><li>9</li><li>2</li><li>8</li><li>6</li><li>1</li><li>7</li></ol>\n"
      ],
      "text/latex": [
       "\\begin{enumerate*}\n",
       "\\item 3\n",
       "\\item 1\n",
       "\\item 7\n",
       "\\item 4\n",
       "\\item 3\n",
       "\\item 5\n",
       "\\item 9\n",
       "\\item 2\n",
       "\\item 8\n",
       "\\item 6\n",
       "\\item 1\n",
       "\\item 7\n",
       "\\end{enumerate*}\n"
      ],
      "text/markdown": [
       "1. 3\n",
       "2. 1\n",
       "3. 7\n",
       "4. 4\n",
       "5. 3\n",
       "6. 5\n",
       "7. 9\n",
       "8. 2\n",
       "9. 8\n",
       "10. 6\n",
       "11. 1\n",
       "12. 7\n",
       "\n",
       "\n"
      ],
      "text/plain": [
       " [1] 3 1 7 4 3 5 9 2 8 6 1 7"
      ]
     },
     "metadata": {},
     "output_type": "display_data"
    }
   ],
   "source": [
    "#04-19\n",
    "rock_names = c(\"Granite\", \"Basalt\", \"Sandstone\", \"Limestone\", \"Granite\", \"Marble\", \"Shale\", \"Gneiss\", \"Schist\", \"Quartzite\", \"Basalt\", \"Sandstone\")\n",
    "\n",
    "# convert the rock_names variable to a numerical one\n",
    "rock_numbers = as.numeric(as.factor(rock_names))\n",
    "\n",
    "# view the results\n",
    "rock_numbers"
   ]
  },
  {
   "cell_type": "code",
   "execution_count": 26,
   "id": "692bac30-ba36-42ff-9ecc-439c017f4bac",
   "metadata": {},
   "outputs": [
    {
     "data": {
      "text/html": [
       "<table class=\"dataframe\">\n",
       "<caption>A data.frame: 8 × 3</caption>\n",
       "<thead>\n",
       "\t<tr><th scope=col>mineral_names</th><th scope=col>mineral_color</th><th scope=col>mineral_hardness</th></tr>\n",
       "\t<tr><th scope=col>&lt;chr&gt;</th><th scope=col>&lt;chr&gt;</th><th scope=col>&lt;dbl&gt;</th></tr>\n",
       "</thead>\n",
       "<tbody>\n",
       "\t<tr><td>Quartz     </td><td>Clear</td><td>7.0</td></tr>\n",
       "\t<tr><td>Plagioclase</td><td>White</td><td>6.0</td></tr>\n",
       "\t<tr><td>Orthoclase </td><td>Pink </td><td>6.0</td></tr>\n",
       "\t<tr><td>Biotite    </td><td>Black</td><td>2.5</td></tr>\n",
       "\t<tr><td>Muscovite  </td><td>Green</td><td>2.5</td></tr>\n",
       "\t<tr><td>Calcite    </td><td>White</td><td>3.0</td></tr>\n",
       "\t<tr><td>Dolomite   </td><td>White</td><td>4.0</td></tr>\n",
       "\t<tr><td>Magnetite  </td><td>Black</td><td>5.5</td></tr>\n",
       "</tbody>\n",
       "</table>\n"
      ],
      "text/latex": [
       "A data.frame: 8 × 3\n",
       "\\begin{tabular}{lll}\n",
       " mineral\\_names & mineral\\_color & mineral\\_hardness\\\\\n",
       " <chr> & <chr> & <dbl>\\\\\n",
       "\\hline\n",
       "\t Quartz      & Clear & 7.0\\\\\n",
       "\t Plagioclase & White & 6.0\\\\\n",
       "\t Orthoclase  & Pink  & 6.0\\\\\n",
       "\t Biotite     & Black & 2.5\\\\\n",
       "\t Muscovite   & Green & 2.5\\\\\n",
       "\t Calcite     & White & 3.0\\\\\n",
       "\t Dolomite    & White & 4.0\\\\\n",
       "\t Magnetite   & Black & 5.5\\\\\n",
       "\\end{tabular}\n"
      ],
      "text/markdown": [
       "\n",
       "A data.frame: 8 × 3\n",
       "\n",
       "| mineral_names &lt;chr&gt; | mineral_color &lt;chr&gt; | mineral_hardness &lt;dbl&gt; |\n",
       "|---|---|---|\n",
       "| Quartz      | Clear | 7.0 |\n",
       "| Plagioclase | White | 6.0 |\n",
       "| Orthoclase  | Pink  | 6.0 |\n",
       "| Biotite     | Black | 2.5 |\n",
       "| Muscovite   | Green | 2.5 |\n",
       "| Calcite     | White | 3.0 |\n",
       "| Dolomite    | White | 4.0 |\n",
       "| Magnetite   | Black | 5.5 |\n",
       "\n"
      ],
      "text/plain": [
       "  mineral_names mineral_color mineral_hardness\n",
       "1 Quartz        Clear         7.0             \n",
       "2 Plagioclase   White         6.0             \n",
       "3 Orthoclase    Pink          6.0             \n",
       "4 Biotite       Black         2.5             \n",
       "5 Muscovite     Green         2.5             \n",
       "6 Calcite       White         3.0             \n",
       "7 Dolomite      White         4.0             \n",
       "8 Magnetite     Black         5.5             "
      ]
     },
     "metadata": {},
     "output_type": "display_data"
    }
   ],
   "source": [
    "#04-20/01\n",
    "# Create a data frame\n",
    "minerals = data.frame(mineral_names = c(\"Quartz\", \"Plagioclase\", \"Orthoclase\", \"Biotite\", \n",
    "                                        \"Muscovite\", \"Calcite\", \"Dolomite\", \"Magnetite\"), \n",
    "                        mineral_color = c(\"Clear\", \"White\", \"Pink\", \"Black\", \"Green\", \"White\", \"White\", \"Black\"), \n",
    "                      mineral_hardness = c(7, 6, 6, 2.5, 2.5, 3, 4, 5.5))\n",
    "\n",
    "# View the result\n",
    "minerals"
   ]
  },
  {
   "cell_type": "code",
   "execution_count": 28,
   "id": "62322b54-6640-4411-a54c-7e8cb2b2efb2",
   "metadata": {},
   "outputs": [
    {
     "data": {
      "text/html": [
       "<table class=\"dataframe\">\n",
       "<caption>A data.frame: 2 × 3</caption>\n",
       "<thead>\n",
       "\t<tr><th scope=col>mineral_names</th><th scope=col>mineral_color</th><th scope=col>mineral_hardness</th></tr>\n",
       "\t<tr><th scope=col>&lt;chr&gt;</th><th scope=col>&lt;chr&gt;</th><th scope=col>&lt;dbl&gt;</th></tr>\n",
       "</thead>\n",
       "<tbody>\n",
       "\t<tr><td>Hematite</td><td>Red   </td><td>5.5</td></tr>\n",
       "\t<tr><td>Galena  </td><td>Silver</td><td>2.5</td></tr>\n",
       "</tbody>\n",
       "</table>\n"
      ],
      "text/latex": [
       "A data.frame: 2 × 3\n",
       "\\begin{tabular}{lll}\n",
       " mineral\\_names & mineral\\_color & mineral\\_hardness\\\\\n",
       " <chr> & <chr> & <dbl>\\\\\n",
       "\\hline\n",
       "\t Hematite & Red    & 5.5\\\\\n",
       "\t Galena   & Silver & 2.5\\\\\n",
       "\\end{tabular}\n"
      ],
      "text/markdown": [
       "\n",
       "A data.frame: 2 × 3\n",
       "\n",
       "| mineral_names &lt;chr&gt; | mineral_color &lt;chr&gt; | mineral_hardness &lt;dbl&gt; |\n",
       "|---|---|---|\n",
       "| Hematite | Red    | 5.5 |\n",
       "| Galena   | Silver | 2.5 |\n",
       "\n"
      ],
      "text/plain": [
       "  mineral_names mineral_color mineral_hardness\n",
       "1 Hematite      Red           5.5             \n",
       "2 Galena        Silver        2.5             "
      ]
     },
     "metadata": {},
     "output_type": "display_data"
    },
    {
     "data": {
      "text/html": [
       "<table class=\"dataframe\">\n",
       "<caption>A data.frame: 10 × 3</caption>\n",
       "<thead>\n",
       "\t<tr><th scope=col>mineral_names</th><th scope=col>mineral_color</th><th scope=col>mineral_hardness</th></tr>\n",
       "\t<tr><th scope=col>&lt;chr&gt;</th><th scope=col>&lt;chr&gt;</th><th scope=col>&lt;dbl&gt;</th></tr>\n",
       "</thead>\n",
       "<tbody>\n",
       "\t<tr><td>Quartz     </td><td>Clear </td><td>7.0</td></tr>\n",
       "\t<tr><td>Plagioclase</td><td>White </td><td>6.0</td></tr>\n",
       "\t<tr><td>Orthoclase </td><td>Pink  </td><td>6.0</td></tr>\n",
       "\t<tr><td>Biotite    </td><td>Black </td><td>2.5</td></tr>\n",
       "\t<tr><td>Muscovite  </td><td>Green </td><td>2.5</td></tr>\n",
       "\t<tr><td>Calcite    </td><td>White </td><td>3.0</td></tr>\n",
       "\t<tr><td>Dolomite   </td><td>White </td><td>4.0</td></tr>\n",
       "\t<tr><td>Magnetite  </td><td>Black </td><td>5.5</td></tr>\n",
       "\t<tr><td>Hematite   </td><td>Red   </td><td>5.5</td></tr>\n",
       "\t<tr><td>Galena     </td><td>Silver</td><td>2.5</td></tr>\n",
       "</tbody>\n",
       "</table>\n"
      ],
      "text/latex": [
       "A data.frame: 10 × 3\n",
       "\\begin{tabular}{lll}\n",
       " mineral\\_names & mineral\\_color & mineral\\_hardness\\\\\n",
       " <chr> & <chr> & <dbl>\\\\\n",
       "\\hline\n",
       "\t Quartz      & Clear  & 7.0\\\\\n",
       "\t Plagioclase & White  & 6.0\\\\\n",
       "\t Orthoclase  & Pink   & 6.0\\\\\n",
       "\t Biotite     & Black  & 2.5\\\\\n",
       "\t Muscovite   & Green  & 2.5\\\\\n",
       "\t Calcite     & White  & 3.0\\\\\n",
       "\t Dolomite    & White  & 4.0\\\\\n",
       "\t Magnetite   & Black  & 5.5\\\\\n",
       "\t Hematite    & Red    & 5.5\\\\\n",
       "\t Galena      & Silver & 2.5\\\\\n",
       "\\end{tabular}\n"
      ],
      "text/markdown": [
       "\n",
       "A data.frame: 10 × 3\n",
       "\n",
       "| mineral_names &lt;chr&gt; | mineral_color &lt;chr&gt; | mineral_hardness &lt;dbl&gt; |\n",
       "|---|---|---|\n",
       "| Quartz      | Clear  | 7.0 |\n",
       "| Plagioclase | White  | 6.0 |\n",
       "| Orthoclase  | Pink   | 6.0 |\n",
       "| Biotite     | Black  | 2.5 |\n",
       "| Muscovite   | Green  | 2.5 |\n",
       "| Calcite     | White  | 3.0 |\n",
       "| Dolomite    | White  | 4.0 |\n",
       "| Magnetite   | Black  | 5.5 |\n",
       "| Hematite    | Red    | 5.5 |\n",
       "| Galena      | Silver | 2.5 |\n",
       "\n"
      ],
      "text/plain": [
       "   mineral_names mineral_color mineral_hardness\n",
       "1  Quartz        Clear         7.0             \n",
       "2  Plagioclase   White         6.0             \n",
       "3  Orthoclase    Pink          6.0             \n",
       "4  Biotite       Black         2.5             \n",
       "5  Muscovite     Green         2.5             \n",
       "6  Calcite       White         3.0             \n",
       "7  Dolomite      White         4.0             \n",
       "8  Magnetite     Black         5.5             \n",
       "9  Hematite      Red           5.5             \n",
       "10 Galena        Silver        2.5             "
      ]
     },
     "metadata": {},
     "output_type": "display_data"
    }
   ],
   "source": [
    "#04-20/02\n",
    "# Append two more minerals to the data frame\n",
    "new_minerals = data.frame(mineral_names = c(\"Hematite\", \"Galena\"), \n",
    "                          mineral_color = c(\"Red\", \"Silver\"), \n",
    "                          mineral_hardness = c(5.5, 2.5))\n",
    "\n",
    "# Row bind\n",
    "minerals_complete = rbind(minerals, new_minerals)\n",
    "\n",
    "# View the results\n",
    "new_minerals\n",
    "minerals_complete"
   ]
  },
  {
   "cell_type": "code",
   "execution_count": 30,
   "id": "539deff0-3546-4465-b9e1-50b4f4932371",
   "metadata": {},
   "outputs": [
    {
     "data": {
      "text/html": [
       "<table class=\"dataframe\">\n",
       "<caption>A data.frame: 10 × 3</caption>\n",
       "<thead>\n",
       "\t<tr><th></th><th scope=col>mineral_names</th><th scope=col>mineral_color</th><th scope=col>mineral_hardness</th></tr>\n",
       "\t<tr><th></th><th scope=col>&lt;chr&gt;</th><th scope=col>&lt;chr&gt;</th><th scope=col>&lt;dbl&gt;</th></tr>\n",
       "</thead>\n",
       "<tbody>\n",
       "\t<tr><th scope=row>1</th><td>Quartz     </td><td>Clear </td><td>7.0</td></tr>\n",
       "\t<tr><th scope=row>2</th><td>Plagioclase</td><td>White </td><td>6.0</td></tr>\n",
       "\t<tr><th scope=row>3</th><td>Orthoclase </td><td>Pink  </td><td>6.0</td></tr>\n",
       "\t<tr><th scope=row>4</th><td>Biotite    </td><td>Black </td><td>2.5</td></tr>\n",
       "\t<tr><th scope=row>5</th><td>Muscovite  </td><td>Green </td><td>2.5</td></tr>\n",
       "\t<tr><th scope=row>6</th><td>Calcite    </td><td>White </td><td>3.0</td></tr>\n",
       "\t<tr><th scope=row>7</th><td>Dolomite   </td><td>White </td><td>4.0</td></tr>\n",
       "\t<tr><th scope=row>8</th><td>Magnetite  </td><td>Black </td><td>5.5</td></tr>\n",
       "\t<tr><th scope=row>9</th><td>Hematite   </td><td>Red   </td><td>5.5</td></tr>\n",
       "\t<tr><th scope=row>10</th><td>Galena     </td><td>Silver</td><td>2.5</td></tr>\n",
       "</tbody>\n",
       "</table>\n"
      ],
      "text/latex": [
       "A data.frame: 10 × 3\n",
       "\\begin{tabular}{r|lll}\n",
       "  & mineral\\_names & mineral\\_color & mineral\\_hardness\\\\\n",
       "  & <chr> & <chr> & <dbl>\\\\\n",
       "\\hline\n",
       "\t1 & Quartz      & Clear  & 7.0\\\\\n",
       "\t2 & Plagioclase & White  & 6.0\\\\\n",
       "\t3 & Orthoclase  & Pink   & 6.0\\\\\n",
       "\t4 & Biotite     & Black  & 2.5\\\\\n",
       "\t5 & Muscovite   & Green  & 2.5\\\\\n",
       "\t6 & Calcite     & White  & 3.0\\\\\n",
       "\t7 & Dolomite    & White  & 4.0\\\\\n",
       "\t8 & Magnetite   & Black  & 5.5\\\\\n",
       "\t9 & Hematite    & Red    & 5.5\\\\\n",
       "\t10 & Galena      & Silver & 2.5\\\\\n",
       "\\end{tabular}\n"
      ],
      "text/markdown": [
       "\n",
       "A data.frame: 10 × 3\n",
       "\n",
       "| <!--/--> | mineral_names &lt;chr&gt; | mineral_color &lt;chr&gt; | mineral_hardness &lt;dbl&gt; |\n",
       "|---|---|---|---|\n",
       "| 1 | Quartz      | Clear  | 7.0 |\n",
       "| 2 | Plagioclase | White  | 6.0 |\n",
       "| 3 | Orthoclase  | Pink   | 6.0 |\n",
       "| 4 | Biotite     | Black  | 2.5 |\n",
       "| 5 | Muscovite   | Green  | 2.5 |\n",
       "| 6 | Calcite     | White  | 3.0 |\n",
       "| 7 | Dolomite    | White  | 4.0 |\n",
       "| 8 | Magnetite   | Black  | 5.5 |\n",
       "| 9 | Hematite    | Red    | 5.5 |\n",
       "| 10 | Galena      | Silver | 2.5 |\n",
       "\n"
      ],
      "text/plain": [
       "   mineral_names mineral_color mineral_hardness\n",
       "1  Quartz        Clear         7.0             \n",
       "2  Plagioclase   White         6.0             \n",
       "3  Orthoclase    Pink          6.0             \n",
       "4  Biotite       Black         2.5             \n",
       "5  Muscovite     Green         2.5             \n",
       "6  Calcite       White         3.0             \n",
       "7  Dolomite      White         4.0             \n",
       "8  Magnetite     Black         5.5             \n",
       "9  Hematite      Red           5.5             \n",
       "10 Galena        Silver        2.5             "
      ]
     },
     "metadata": {},
     "output_type": "display_data"
    }
   ],
   "source": [
    "#04-21\n",
    "# Create a data frame\n",
    "minerals = data.frame(mineral_names = c(\"Quartz\", \"Plagioclase\", \"Orthoclase\", \"Biotite\", \"Muscovite\", \"Calcite\", \"Dolomite\", \"Magnetite\"), \n",
    "                      mineral_color = c(\"Clear\", \"White\", \"Pink\", \"Black\", \"Green\", \"White\", \"White\", \"Black\"), \n",
    "                      mineral_hardness = c(7, 6, 6, 2.5, 2.5, 3, 4, 5.5))\n",
    "\n",
    "# Create a new data frame\n",
    "new_minerals = data.frame(mineral_names = c(\"Hematite\", \"Galena\"), \n",
    "                          mineral_color = c(\"Red\", \"Silver\"), \n",
    "                          mineral_hardness = c(5.5, 2.5))\n",
    "\n",
    "# Append two more minerals to the data frame\n",
    "n1 = nrow(minerals) + 1\n",
    "n2 = n1 + nrow(new_minerals) - 1\n",
    "minerals[n1:n2,] = new_minerals\n",
    "\n",
    "# View the results\n",
    "minerals"
   ]
  },
  {
   "cell_type": "code",
   "execution_count": 31,
   "id": "cf1cf6d1-bd5d-45ce-95bd-f34e2cab0244",
   "metadata": {},
   "outputs": [
    {
     "data": {
      "text/html": [
       "<table class=\"dataframe\">\n",
       "<caption>A data.frame: 8 × 3</caption>\n",
       "<thead>\n",
       "\t<tr><th scope=col>mineral_names</th><th scope=col>mineral_color</th><th scope=col>mineral_hardness</th></tr>\n",
       "\t<tr><th scope=col>&lt;chr&gt;</th><th scope=col>&lt;chr&gt;</th><th scope=col>&lt;dbl&gt;</th></tr>\n",
       "</thead>\n",
       "<tbody>\n",
       "\t<tr><td>Quartz     </td><td>Clear</td><td>7.0</td></tr>\n",
       "\t<tr><td>Plagioclase</td><td>White</td><td>6.0</td></tr>\n",
       "\t<tr><td>Orthoclase </td><td>Pink </td><td>6.0</td></tr>\n",
       "\t<tr><td>Biotite    </td><td>Black</td><td>2.5</td></tr>\n",
       "\t<tr><td>Muscovite  </td><td>Green</td><td>2.5</td></tr>\n",
       "\t<tr><td>Hornblende </td><td>Black</td><td>7.0</td></tr>\n",
       "\t<tr><td>Garnet     </td><td>Red  </td><td>6.5</td></tr>\n",
       "\t<tr><td>Feldspar   </td><td>White</td><td>6.0</td></tr>\n",
       "</tbody>\n",
       "</table>\n"
      ],
      "text/latex": [
       "A data.frame: 8 × 3\n",
       "\\begin{tabular}{lll}\n",
       " mineral\\_names & mineral\\_color & mineral\\_hardness\\\\\n",
       " <chr> & <chr> & <dbl>\\\\\n",
       "\\hline\n",
       "\t Quartz      & Clear & 7.0\\\\\n",
       "\t Plagioclase & White & 6.0\\\\\n",
       "\t Orthoclase  & Pink  & 6.0\\\\\n",
       "\t Biotite     & Black & 2.5\\\\\n",
       "\t Muscovite   & Green & 2.5\\\\\n",
       "\t Hornblende  & Black & 7.0\\\\\n",
       "\t Garnet      & Red   & 6.5\\\\\n",
       "\t Feldspar    & White & 6.0\\\\\n",
       "\\end{tabular}\n"
      ],
      "text/markdown": [
       "\n",
       "A data.frame: 8 × 3\n",
       "\n",
       "| mineral_names &lt;chr&gt; | mineral_color &lt;chr&gt; | mineral_hardness &lt;dbl&gt; |\n",
       "|---|---|---|\n",
       "| Quartz      | Clear | 7.0 |\n",
       "| Plagioclase | White | 6.0 |\n",
       "| Orthoclase  | Pink  | 6.0 |\n",
       "| Biotite     | Black | 2.5 |\n",
       "| Muscovite   | Green | 2.5 |\n",
       "| Hornblende  | Black | 7.0 |\n",
       "| Garnet      | Red   | 6.5 |\n",
       "| Feldspar    | White | 6.0 |\n",
       "\n"
      ],
      "text/plain": [
       "  mineral_names mineral_color mineral_hardness\n",
       "1 Quartz        Clear         7.0             \n",
       "2 Plagioclase   White         6.0             \n",
       "3 Orthoclase    Pink          6.0             \n",
       "4 Biotite       Black         2.5             \n",
       "5 Muscovite     Green         2.5             \n",
       "6 Hornblende    Black         7.0             \n",
       "7 Garnet        Red           6.5             \n",
       "8 Feldspar      White         6.0             "
      ]
     },
     "metadata": {},
     "output_type": "display_data"
    }
   ],
   "source": [
    "#04-22/01\n",
    "# Create a data frame\n",
    "minerals = data.frame(mineral_names = c(\"Quartz\", \"Plagioclase\", \"Orthoclase\", \"Biotite\", \"Muscovite\", \"Hornblende\", \"Garnet\", \"Feldspar\"), \n",
    "                      mineral_color = c(\"Clear\", \"White\", \"Pink\", \"Black\", \"Green\", \"Black\", \"Red\", \"White\"), \n",
    "                      mineral_hardness = c(7, 6, 6, 2.5, 2.5, 7, 6.5, 6))\n",
    "\n",
    "# View the result\n",
    "minerals"
   ]
  },
  {
   "cell_type": "code",
   "execution_count": 32,
   "id": "382ec246-1b96-4dd2-8c9a-96a413027bdf",
   "metadata": {},
   "outputs": [
    {
     "data": {
      "text/html": [
       "<table class=\"dataframe\">\n",
       "<caption>A data.frame: 8 × 4</caption>\n",
       "<thead>\n",
       "\t<tr><th scope=col>mineral_names</th><th scope=col>mineral_color</th><th scope=col>mineral_hardness</th><th scope=col>mineral_density</th></tr>\n",
       "\t<tr><th scope=col>&lt;chr&gt;</th><th scope=col>&lt;chr&gt;</th><th scope=col>&lt;dbl&gt;</th><th scope=col>&lt;dbl&gt;</th></tr>\n",
       "</thead>\n",
       "<tbody>\n",
       "\t<tr><td>Quartz     </td><td>Clear</td><td>7.0</td><td>2.65</td></tr>\n",
       "\t<tr><td>Plagioclase</td><td>White</td><td>6.0</td><td>2.71</td></tr>\n",
       "\t<tr><td>Orthoclase </td><td>Pink </td><td>6.0</td><td>2.54</td></tr>\n",
       "\t<tr><td>Biotite    </td><td>Black</td><td>2.5</td><td>2.88</td></tr>\n",
       "\t<tr><td>Muscovite  </td><td>Green</td><td>2.5</td><td>2.83</td></tr>\n",
       "\t<tr><td>Hornblende </td><td>Black</td><td>7.0</td><td>3.50</td></tr>\n",
       "\t<tr><td>Garnet     </td><td>Red  </td><td>6.5</td><td>4.20</td></tr>\n",
       "\t<tr><td>Feldspar   </td><td>White</td><td>6.0</td><td>2.56</td></tr>\n",
       "</tbody>\n",
       "</table>\n"
      ],
      "text/latex": [
       "A data.frame: 8 × 4\n",
       "\\begin{tabular}{llll}\n",
       " mineral\\_names & mineral\\_color & mineral\\_hardness & mineral\\_density\\\\\n",
       " <chr> & <chr> & <dbl> & <dbl>\\\\\n",
       "\\hline\n",
       "\t Quartz      & Clear & 7.0 & 2.65\\\\\n",
       "\t Plagioclase & White & 6.0 & 2.71\\\\\n",
       "\t Orthoclase  & Pink  & 6.0 & 2.54\\\\\n",
       "\t Biotite     & Black & 2.5 & 2.88\\\\\n",
       "\t Muscovite   & Green & 2.5 & 2.83\\\\\n",
       "\t Hornblende  & Black & 7.0 & 3.50\\\\\n",
       "\t Garnet      & Red   & 6.5 & 4.20\\\\\n",
       "\t Feldspar    & White & 6.0 & 2.56\\\\\n",
       "\\end{tabular}\n"
      ],
      "text/markdown": [
       "\n",
       "A data.frame: 8 × 4\n",
       "\n",
       "| mineral_names &lt;chr&gt; | mineral_color &lt;chr&gt; | mineral_hardness &lt;dbl&gt; | mineral_density &lt;dbl&gt; |\n",
       "|---|---|---|---|\n",
       "| Quartz      | Clear | 7.0 | 2.65 |\n",
       "| Plagioclase | White | 6.0 | 2.71 |\n",
       "| Orthoclase  | Pink  | 6.0 | 2.54 |\n",
       "| Biotite     | Black | 2.5 | 2.88 |\n",
       "| Muscovite   | Green | 2.5 | 2.83 |\n",
       "| Hornblende  | Black | 7.0 | 3.50 |\n",
       "| Garnet      | Red   | 6.5 | 4.20 |\n",
       "| Feldspar    | White | 6.0 | 2.56 |\n",
       "\n"
      ],
      "text/plain": [
       "  mineral_names mineral_color mineral_hardness mineral_density\n",
       "1 Quartz        Clear         7.0              2.65           \n",
       "2 Plagioclase   White         6.0              2.71           \n",
       "3 Orthoclase    Pink          6.0              2.54           \n",
       "4 Biotite       Black         2.5              2.88           \n",
       "5 Muscovite     Green         2.5              2.83           \n",
       "6 Hornblende    Black         7.0              3.50           \n",
       "7 Garnet        Red           6.5              4.20           \n",
       "8 Feldspar      White         6.0              2.56           "
      ]
     },
     "metadata": {},
     "output_type": "display_data"
    }
   ],
   "source": [
    "#04-22/02\n",
    "# Create a new column of mineral density\n",
    "mineral_density = c(2.65, 2.71, 2.54, 2.88, 2.83, 3.5, 4.2, 2.56)\n",
    "\n",
    "# Append the new column to the existing data frame\n",
    "minerals = cbind(minerals, mineral_density)\n",
    "\n",
    "# View the result\n",
    "minerals"
   ]
  },
  {
   "cell_type": "code",
   "execution_count": 33,
   "id": "e60685c8-0d43-4116-a7bf-347aeb37b2ce",
   "metadata": {},
   "outputs": [
    {
     "data": {
      "text/html": [
       "<table class=\"dataframe\">\n",
       "<caption>A data.frame: 8 × 6</caption>\n",
       "<thead>\n",
       "\t<tr><th scope=col>mineral_names</th><th scope=col>mineral_color</th><th scope=col>mineral_hardness</th><th scope=col>mineral_density</th><th scope=col>mineral_density_v2</th><th scope=col>mineral_density_v3</th></tr>\n",
       "\t<tr><th scope=col>&lt;chr&gt;</th><th scope=col>&lt;chr&gt;</th><th scope=col>&lt;dbl&gt;</th><th scope=col>&lt;dbl&gt;</th><th scope=col>&lt;dbl&gt;</th><th scope=col>&lt;dbl&gt;</th></tr>\n",
       "</thead>\n",
       "<tbody>\n",
       "\t<tr><td>Quartz     </td><td>Clear</td><td>7.0</td><td>2.65</td><td>2.65</td><td>2.65</td></tr>\n",
       "\t<tr><td>Plagioclase</td><td>White</td><td>6.0</td><td>2.71</td><td>2.71</td><td>2.71</td></tr>\n",
       "\t<tr><td>Orthoclase </td><td>Pink </td><td>6.0</td><td>2.54</td><td>2.54</td><td>2.54</td></tr>\n",
       "\t<tr><td>Biotite    </td><td>Black</td><td>2.5</td><td>2.88</td><td>2.88</td><td>2.88</td></tr>\n",
       "\t<tr><td>Muscovite  </td><td>Green</td><td>2.5</td><td>2.83</td><td>2.83</td><td>2.83</td></tr>\n",
       "\t<tr><td>Hornblende </td><td>Black</td><td>7.0</td><td>3.50</td><td>3.50</td><td>3.50</td></tr>\n",
       "\t<tr><td>Garnet     </td><td>Red  </td><td>6.5</td><td>4.20</td><td>4.20</td><td>4.20</td></tr>\n",
       "\t<tr><td>Feldspar   </td><td>White</td><td>6.0</td><td>2.56</td><td>2.56</td><td>2.56</td></tr>\n",
       "</tbody>\n",
       "</table>\n"
      ],
      "text/latex": [
       "A data.frame: 8 × 6\n",
       "\\begin{tabular}{llllll}\n",
       " mineral\\_names & mineral\\_color & mineral\\_hardness & mineral\\_density & mineral\\_density\\_v2 & mineral\\_density\\_v3\\\\\n",
       " <chr> & <chr> & <dbl> & <dbl> & <dbl> & <dbl>\\\\\n",
       "\\hline\n",
       "\t Quartz      & Clear & 7.0 & 2.65 & 2.65 & 2.65\\\\\n",
       "\t Plagioclase & White & 6.0 & 2.71 & 2.71 & 2.71\\\\\n",
       "\t Orthoclase  & Pink  & 6.0 & 2.54 & 2.54 & 2.54\\\\\n",
       "\t Biotite     & Black & 2.5 & 2.88 & 2.88 & 2.88\\\\\n",
       "\t Muscovite   & Green & 2.5 & 2.83 & 2.83 & 2.83\\\\\n",
       "\t Hornblende  & Black & 7.0 & 3.50 & 3.50 & 3.50\\\\\n",
       "\t Garnet      & Red   & 6.5 & 4.20 & 4.20 & 4.20\\\\\n",
       "\t Feldspar    & White & 6.0 & 2.56 & 2.56 & 2.56\\\\\n",
       "\\end{tabular}\n"
      ],
      "text/markdown": [
       "\n",
       "A data.frame: 8 × 6\n",
       "\n",
       "| mineral_names &lt;chr&gt; | mineral_color &lt;chr&gt; | mineral_hardness &lt;dbl&gt; | mineral_density &lt;dbl&gt; | mineral_density_v2 &lt;dbl&gt; | mineral_density_v3 &lt;dbl&gt; |\n",
       "|---|---|---|---|---|---|\n",
       "| Quartz      | Clear | 7.0 | 2.65 | 2.65 | 2.65 |\n",
       "| Plagioclase | White | 6.0 | 2.71 | 2.71 | 2.71 |\n",
       "| Orthoclase  | Pink  | 6.0 | 2.54 | 2.54 | 2.54 |\n",
       "| Biotite     | Black | 2.5 | 2.88 | 2.88 | 2.88 |\n",
       "| Muscovite   | Green | 2.5 | 2.83 | 2.83 | 2.83 |\n",
       "| Hornblende  | Black | 7.0 | 3.50 | 3.50 | 3.50 |\n",
       "| Garnet      | Red   | 6.5 | 4.20 | 4.20 | 4.20 |\n",
       "| Feldspar    | White | 6.0 | 2.56 | 2.56 | 2.56 |\n",
       "\n"
      ],
      "text/plain": [
       "  mineral_names mineral_color mineral_hardness mineral_density\n",
       "1 Quartz        Clear         7.0              2.65           \n",
       "2 Plagioclase   White         6.0              2.71           \n",
       "3 Orthoclase    Pink          6.0              2.54           \n",
       "4 Biotite       Black         2.5              2.88           \n",
       "5 Muscovite     Green         2.5              2.83           \n",
       "6 Hornblende    Black         7.0              3.50           \n",
       "7 Garnet        Red           6.5              4.20           \n",
       "8 Feldspar      White         6.0              2.56           \n",
       "  mineral_density_v2 mineral_density_v3\n",
       "1 2.65               2.65              \n",
       "2 2.71               2.71              \n",
       "3 2.54               2.54              \n",
       "4 2.88               2.88              \n",
       "5 2.83               2.83              \n",
       "6 3.50               3.50              \n",
       "7 4.20               4.20              \n",
       "8 2.56               2.56              "
      ]
     },
     "metadata": {},
     "output_type": "display_data"
    }
   ],
   "source": [
    "#04-22/03\n",
    "# Append the new column to the existing data frame V2\n",
    "minerals[,\"mineral_density_v2\"] = mineral_density\n",
    "\n",
    "# Append the new column to the existing data frame V3\n",
    "minerals$mineral_density_v3 = mineral_density\n",
    "\n",
    "# View the result\n",
    "minerals"
   ]
  },
  {
   "cell_type": "markdown",
   "id": "0586d752-7872-401a-aa47-bdfe117faa60",
   "metadata": {},
   "source": [
    "## 4.5. Reshaping data"
   ]
  },
  {
   "cell_type": "code",
   "execution_count": 34,
   "id": "11b3f80e-df72-4e7f-a483-ec508f630344",
   "metadata": {},
   "outputs": [
    {
     "data": {
      "text/html": [
       "<table class=\"dataframe\">\n",
       "<caption>A data.frame: 10 × 5</caption>\n",
       "<thead>\n",
       "\t<tr><th scope=col>Sample_Number</th><th scope=col>Mineral_name</th><th scope=col>Hardness</th><th scope=col>color</th><th scope=col>density</th></tr>\n",
       "\t<tr><th scope=col>&lt;int&gt;</th><th scope=col>&lt;chr&gt;</th><th scope=col>&lt;dbl&gt;</th><th scope=col>&lt;chr&gt;</th><th scope=col>&lt;dbl&gt;</th></tr>\n",
       "</thead>\n",
       "<tbody>\n",
       "\t<tr><td> 1</td><td>Quartz     </td><td>7.0</td><td>Clear </td><td>2.65</td></tr>\n",
       "\t<tr><td> 2</td><td>Plagioclase</td><td>6.0</td><td>White </td><td>2.71</td></tr>\n",
       "\t<tr><td> 3</td><td>Orthoclase </td><td>6.0</td><td>Pink  </td><td>2.54</td></tr>\n",
       "\t<tr><td> 4</td><td>Biotite    </td><td>2.5</td><td>Black </td><td>2.87</td></tr>\n",
       "\t<tr><td> 5</td><td>Muscovite  </td><td>2.5</td><td>Green </td><td>2.83</td></tr>\n",
       "\t<tr><td> 6</td><td>K-feldspar </td><td>6.0</td><td>Pink  </td><td>2.56</td></tr>\n",
       "\t<tr><td> 7</td><td>Hornblende </td><td>5.0</td><td>Black </td><td>3.50</td></tr>\n",
       "\t<tr><td> 8</td><td>Garnet     </td><td>7.0</td><td>Red   </td><td>4.30</td></tr>\n",
       "\t<tr><td> 9</td><td>Pyroxene   </td><td>6.0</td><td>Green </td><td>3.30</td></tr>\n",
       "\t<tr><td>10</td><td>Olivine    </td><td>7.0</td><td>Yellow</td><td>4.40</td></tr>\n",
       "</tbody>\n",
       "</table>\n"
      ],
      "text/latex": [
       "A data.frame: 10 × 5\n",
       "\\begin{tabular}{lllll}\n",
       " Sample\\_Number & Mineral\\_name & Hardness & color & density\\\\\n",
       " <int> & <chr> & <dbl> & <chr> & <dbl>\\\\\n",
       "\\hline\n",
       "\t  1 & Quartz      & 7.0 & Clear  & 2.65\\\\\n",
       "\t  2 & Plagioclase & 6.0 & White  & 2.71\\\\\n",
       "\t  3 & Orthoclase  & 6.0 & Pink   & 2.54\\\\\n",
       "\t  4 & Biotite     & 2.5 & Black  & 2.87\\\\\n",
       "\t  5 & Muscovite   & 2.5 & Green  & 2.83\\\\\n",
       "\t  6 & K-feldspar  & 6.0 & Pink   & 2.56\\\\\n",
       "\t  7 & Hornblende  & 5.0 & Black  & 3.50\\\\\n",
       "\t  8 & Garnet      & 7.0 & Red    & 4.30\\\\\n",
       "\t  9 & Pyroxene    & 6.0 & Green  & 3.30\\\\\n",
       "\t 10 & Olivine     & 7.0 & Yellow & 4.40\\\\\n",
       "\\end{tabular}\n"
      ],
      "text/markdown": [
       "\n",
       "A data.frame: 10 × 5\n",
       "\n",
       "| Sample_Number &lt;int&gt; | Mineral_name &lt;chr&gt; | Hardness &lt;dbl&gt; | color &lt;chr&gt; | density &lt;dbl&gt; |\n",
       "|---|---|---|---|---|\n",
       "|  1 | Quartz      | 7.0 | Clear  | 2.65 |\n",
       "|  2 | Plagioclase | 6.0 | White  | 2.71 |\n",
       "|  3 | Orthoclase  | 6.0 | Pink   | 2.54 |\n",
       "|  4 | Biotite     | 2.5 | Black  | 2.87 |\n",
       "|  5 | Muscovite   | 2.5 | Green  | 2.83 |\n",
       "|  6 | K-feldspar  | 6.0 | Pink   | 2.56 |\n",
       "|  7 | Hornblende  | 5.0 | Black  | 3.50 |\n",
       "|  8 | Garnet      | 7.0 | Red    | 4.30 |\n",
       "|  9 | Pyroxene    | 6.0 | Green  | 3.30 |\n",
       "| 10 | Olivine     | 7.0 | Yellow | 4.40 |\n",
       "\n"
      ],
      "text/plain": [
       "   Sample_Number Mineral_name Hardness color  density\n",
       "1   1            Quartz       7.0      Clear  2.65   \n",
       "2   2            Plagioclase  6.0      White  2.71   \n",
       "3   3            Orthoclase   6.0      Pink   2.54   \n",
       "4   4            Biotite      2.5      Black  2.87   \n",
       "5   5            Muscovite    2.5      Green  2.83   \n",
       "6   6            K-feldspar   6.0      Pink   2.56   \n",
       "7   7            Hornblende   5.0      Black  3.50   \n",
       "8   8            Garnet       7.0      Red    4.30   \n",
       "9   9            Pyroxene     6.0      Green  3.30   \n",
       "10 10            Olivine      7.0      Yellow 4.40   "
      ]
     },
     "metadata": {},
     "output_type": "display_data"
    },
    {
     "data": {
      "text/html": [
       "<table class=\"dataframe\">\n",
       "<caption>A matrix: 5 × 10 of type chr</caption>\n",
       "<tbody>\n",
       "\t<tr><th scope=row>Sample_Number</th><td> 1    </td><td> 2         </td><td> 3        </td><td> 4     </td><td> 5       </td><td> 6        </td><td> 7        </td><td> 8    </td><td> 9      </td><td>10     </td></tr>\n",
       "\t<tr><th scope=row>Mineral_name</th><td>Quartz</td><td>Plagioclase</td><td>Orthoclase</td><td>Biotite</td><td>Muscovite</td><td>K-feldspar</td><td>Hornblende</td><td>Garnet</td><td>Pyroxene</td><td>Olivine</td></tr>\n",
       "\t<tr><th scope=row>Hardness</th><td>7.0   </td><td>6.0        </td><td>6.0       </td><td>2.5    </td><td>2.5      </td><td>6.0       </td><td>5.0       </td><td>7.0   </td><td>6.0     </td><td>7.0    </td></tr>\n",
       "\t<tr><th scope=row>color</th><td>Clear </td><td>White      </td><td>Pink      </td><td>Black  </td><td>Green    </td><td>Pink      </td><td>Black     </td><td>Red   </td><td>Green   </td><td>Yellow </td></tr>\n",
       "\t<tr><th scope=row>density</th><td>2.65  </td><td>2.71       </td><td>2.54      </td><td>2.87   </td><td>2.83     </td><td>2.56      </td><td>3.50      </td><td>4.30  </td><td>3.30    </td><td>4.40   </td></tr>\n",
       "</tbody>\n",
       "</table>\n"
      ],
      "text/latex": [
       "A matrix: 5 × 10 of type chr\n",
       "\\begin{tabular}{r|llllllllll}\n",
       "\tSample\\_Number &  1     &  2          &  3         &  4      &  5        &  6         &  7         &  8     &  9       & 10     \\\\\n",
       "\tMineral\\_name & Quartz & Plagioclase & Orthoclase & Biotite & Muscovite & K-feldspar & Hornblende & Garnet & Pyroxene & Olivine\\\\\n",
       "\tHardness & 7.0    & 6.0         & 6.0        & 2.5     & 2.5       & 6.0        & 5.0        & 7.0    & 6.0      & 7.0    \\\\\n",
       "\tcolor & Clear  & White       & Pink       & Black   & Green     & Pink       & Black      & Red    & Green    & Yellow \\\\\n",
       "\tdensity & 2.65   & 2.71        & 2.54       & 2.87    & 2.83      & 2.56       & 3.50       & 4.30   & 3.30     & 4.40   \\\\\n",
       "\\end{tabular}\n"
      ],
      "text/markdown": [
       "\n",
       "A matrix: 5 × 10 of type chr\n",
       "\n",
       "| Sample_Number |  1     |  2          |  3         |  4      |  5        |  6         |  7         |  8     |  9       | 10      |\n",
       "| Mineral_name | Quartz | Plagioclase | Orthoclase | Biotite | Muscovite | K-feldspar | Hornblende | Garnet | Pyroxene | Olivine |\n",
       "| Hardness | 7.0    | 6.0         | 6.0        | 2.5     | 2.5       | 6.0        | 5.0        | 7.0    | 6.0      | 7.0     |\n",
       "| color | Clear  | White       | Pink       | Black   | Green     | Pink       | Black      | Red    | Green    | Yellow  |\n",
       "| density | 2.65   | 2.71        | 2.54       | 2.87    | 2.83      | 2.56       | 3.50       | 4.30   | 3.30     | 4.40    |\n",
       "\n"
      ],
      "text/plain": [
       "              [,1]   [,2]        [,3]       [,4]    [,5]      [,6]      \n",
       "Sample_Number  1      2           3          4       5         6        \n",
       "Mineral_name  Quartz Plagioclase Orthoclase Biotite Muscovite K-feldspar\n",
       "Hardness      7.0    6.0         6.0        2.5     2.5       6.0       \n",
       "color         Clear  White       Pink       Black   Green     Pink      \n",
       "density       2.65   2.71        2.54       2.87    2.83      2.56      \n",
       "              [,7]       [,8]   [,9]     [,10]  \n",
       "Sample_Number  7          8      9       10     \n",
       "Mineral_name  Hornblende Garnet Pyroxene Olivine\n",
       "Hardness      5.0        7.0    6.0      7.0    \n",
       "color         Black      Red    Green    Yellow \n",
       "density       3.50       4.30   3.30     4.40   "
      ]
     },
     "metadata": {},
     "output_type": "display_data"
    }
   ],
   "source": [
    "#04-23\n",
    "# Create a data frame with 10 samples\n",
    "df = data.frame(Sample_Number = 1:10, Mineral_name = c(\"Quartz\", \"Plagioclase\", \"Orthoclase\", \"Biotite\", \"Muscovite\", \"K-feldspar\", \"Hornblende\", \"Garnet\", \"Pyroxene\", \"Olivine\"),\n",
    "                Hardness = c(7, 6, 6, 2.5, 2.5, 6, 5, 7, 6, 7), \n",
    "                color = c(\"Clear\", \"White\", \"Pink\", \"Black\", \"Green\", \"Pink\", \"Black\", \"Red\", \"Green\", \"Yellow\"), \n",
    "                density = c(2.65, 2.71, 2.54, 2.87, 2.83, 2.56, 3.5, 4.3, 3.3, 4.4))\n",
    "\n",
    "# Transpose the data frame\n",
    "df_transposed = t(df)\n",
    "\n",
    "# View the result\n",
    "df\n",
    "df_transposed"
   ]
  },
  {
   "cell_type": "code",
   "execution_count": 35,
   "id": "140d8559-bf7d-4ac6-9cc0-46d91714cc64",
   "metadata": {},
   "outputs": [
    {
     "data": {
      "text/html": [
       "<table class=\"dataframe\">\n",
       "<caption>A data.frame: 5 × 3</caption>\n",
       "<thead>\n",
       "\t<tr><th scope=col>mineral_names</th><th scope=col>hardness</th><th scope=col>color</th></tr>\n",
       "\t<tr><th scope=col>&lt;chr&gt;</th><th scope=col>&lt;dbl&gt;</th><th scope=col>&lt;chr&gt;</th></tr>\n",
       "</thead>\n",
       "<tbody>\n",
       "\t<tr><td>Quartz     </td><td>7.0</td><td>Clear</td></tr>\n",
       "\t<tr><td>Plagioclase</td><td>6.0</td><td>White</td></tr>\n",
       "\t<tr><td>Orthoclase </td><td>6.0</td><td>Pink </td></tr>\n",
       "\t<tr><td>Biotite    </td><td>2.5</td><td>Black</td></tr>\n",
       "\t<tr><td>Muscovite  </td><td>2.5</td><td>Green</td></tr>\n",
       "</tbody>\n",
       "</table>\n"
      ],
      "text/latex": [
       "A data.frame: 5 × 3\n",
       "\\begin{tabular}{lll}\n",
       " mineral\\_names & hardness & color\\\\\n",
       " <chr> & <dbl> & <chr>\\\\\n",
       "\\hline\n",
       "\t Quartz      & 7.0 & Clear\\\\\n",
       "\t Plagioclase & 6.0 & White\\\\\n",
       "\t Orthoclase  & 6.0 & Pink \\\\\n",
       "\t Biotite     & 2.5 & Black\\\\\n",
       "\t Muscovite   & 2.5 & Green\\\\\n",
       "\\end{tabular}\n"
      ],
      "text/markdown": [
       "\n",
       "A data.frame: 5 × 3\n",
       "\n",
       "| mineral_names &lt;chr&gt; | hardness &lt;dbl&gt; | color &lt;chr&gt; |\n",
       "|---|---|---|\n",
       "| Quartz      | 7.0 | Clear |\n",
       "| Plagioclase | 6.0 | White |\n",
       "| Orthoclase  | 6.0 | Pink  |\n",
       "| Biotite     | 2.5 | Black |\n",
       "| Muscovite   | 2.5 | Green |\n",
       "\n"
      ],
      "text/plain": [
       "  mineral_names hardness color\n",
       "1 Quartz        7.0      Clear\n",
       "2 Plagioclase   6.0      White\n",
       "3 Orthoclase    6.0      Pink \n",
       "4 Biotite       2.5      Black\n",
       "5 Muscovite     2.5      Green"
      ]
     },
     "metadata": {},
     "output_type": "display_data"
    }
   ],
   "source": [
    "#04-24/01\n",
    "# Create a data frame\n",
    "df = data.frame(mineral_names = c(\"Quartz\", \"Plagioclase\", \"Orthoclase\", \"Biotite\", \"Muscovite\"),\n",
    "                hardness = c(7, 6, 6, 2.5, 2.5), color = c(\"Clear\", \"White\", \"Pink\", \"Black\", \"Green\"))\n",
    "\n",
    "# View the result\n",
    "df"
   ]
  },
  {
   "cell_type": "code",
   "execution_count": 36,
   "id": "05523326-a814-40cf-bf52-cecf65e0d2a2",
   "metadata": {},
   "outputs": [
    {
     "data": {
      "text/html": [
       "<table class=\"dataframe\">\n",
       "<caption>A tibble: 10 × 3</caption>\n",
       "<thead>\n",
       "\t<tr><th scope=col>mineral_names</th><th scope=col>Variable</th><th scope=col>Value</th></tr>\n",
       "\t<tr><th scope=col>&lt;chr&gt;</th><th scope=col>&lt;chr&gt;</th><th scope=col>&lt;chr&gt;</th></tr>\n",
       "</thead>\n",
       "<tbody>\n",
       "\t<tr><td>Quartz     </td><td>hardness</td><td>7    </td></tr>\n",
       "\t<tr><td>Quartz     </td><td>color   </td><td>Clear</td></tr>\n",
       "\t<tr><td>Plagioclase</td><td>hardness</td><td>6    </td></tr>\n",
       "\t<tr><td>Plagioclase</td><td>color   </td><td>White</td></tr>\n",
       "\t<tr><td>Orthoclase </td><td>hardness</td><td>6    </td></tr>\n",
       "\t<tr><td>Orthoclase </td><td>color   </td><td>Pink </td></tr>\n",
       "\t<tr><td>Biotite    </td><td>hardness</td><td>2.5  </td></tr>\n",
       "\t<tr><td>Biotite    </td><td>color   </td><td>Black</td></tr>\n",
       "\t<tr><td>Muscovite  </td><td>hardness</td><td>2.5  </td></tr>\n",
       "\t<tr><td>Muscovite  </td><td>color   </td><td>Green</td></tr>\n",
       "</tbody>\n",
       "</table>\n"
      ],
      "text/latex": [
       "A tibble: 10 × 3\n",
       "\\begin{tabular}{lll}\n",
       " mineral\\_names & Variable & Value\\\\\n",
       " <chr> & <chr> & <chr>\\\\\n",
       "\\hline\n",
       "\t Quartz      & hardness & 7    \\\\\n",
       "\t Quartz      & color    & Clear\\\\\n",
       "\t Plagioclase & hardness & 6    \\\\\n",
       "\t Plagioclase & color    & White\\\\\n",
       "\t Orthoclase  & hardness & 6    \\\\\n",
       "\t Orthoclase  & color    & Pink \\\\\n",
       "\t Biotite     & hardness & 2.5  \\\\\n",
       "\t Biotite     & color    & Black\\\\\n",
       "\t Muscovite   & hardness & 2.5  \\\\\n",
       "\t Muscovite   & color    & Green\\\\\n",
       "\\end{tabular}\n"
      ],
      "text/markdown": [
       "\n",
       "A tibble: 10 × 3\n",
       "\n",
       "| mineral_names &lt;chr&gt; | Variable &lt;chr&gt; | Value &lt;chr&gt; |\n",
       "|---|---|---|\n",
       "| Quartz      | hardness | 7     |\n",
       "| Quartz      | color    | Clear |\n",
       "| Plagioclase | hardness | 6     |\n",
       "| Plagioclase | color    | White |\n",
       "| Orthoclase  | hardness | 6     |\n",
       "| Orthoclase  | color    | Pink  |\n",
       "| Biotite     | hardness | 2.5   |\n",
       "| Biotite     | color    | Black |\n",
       "| Muscovite   | hardness | 2.5   |\n",
       "| Muscovite   | color    | Green |\n",
       "\n"
      ],
      "text/plain": [
       "   mineral_names Variable Value\n",
       "1  Quartz        hardness 7    \n",
       "2  Quartz        color    Clear\n",
       "3  Plagioclase   hardness 6    \n",
       "4  Plagioclase   color    White\n",
       "5  Orthoclase    hardness 6    \n",
       "6  Orthoclase    color    Pink \n",
       "7  Biotite       hardness 2.5  \n",
       "8  Biotite       color    Black\n",
       "9  Muscovite     hardness 2.5  \n",
       "10 Muscovite     color    Green"
      ]
     },
     "metadata": {},
     "output_type": "display_data"
    }
   ],
   "source": [
    "#04-24/02\n",
    "# Load the reshape2 package\n",
    "library(tidyr)\n",
    "\n",
    "# Convert the \"hardness\" column to character type\n",
    "df$hardness = as.character(df$hardness)\n",
    "\n",
    "# Convert the data frame to long format\n",
    "df_long = pivot_longer(df, names_to = \"Variable\", cols = 2:3, values_to = \"Value\")\n",
    "\n",
    "# View the result\n",
    "df_long"
   ]
  },
  {
   "cell_type": "code",
   "execution_count": 37,
   "id": "049522ff-60a7-412f-8891-f7cce7102398",
   "metadata": {},
   "outputs": [
    {
     "data": {
      "text/html": [
       "<table class=\"dataframe\">\n",
       "<caption>A tibble: 5 × 3</caption>\n",
       "<thead>\n",
       "\t<tr><th scope=col>mineral_names</th><th scope=col>hardness</th><th scope=col>color</th></tr>\n",
       "\t<tr><th scope=col>&lt;chr&gt;</th><th scope=col>&lt;chr&gt;</th><th scope=col>&lt;chr&gt;</th></tr>\n",
       "</thead>\n",
       "<tbody>\n",
       "\t<tr><td>Quartz     </td><td>7  </td><td>Clear</td></tr>\n",
       "\t<tr><td>Plagioclase</td><td>6  </td><td>White</td></tr>\n",
       "\t<tr><td>Orthoclase </td><td>6  </td><td>Pink </td></tr>\n",
       "\t<tr><td>Biotite    </td><td>2.5</td><td>Black</td></tr>\n",
       "\t<tr><td>Muscovite  </td><td>2.5</td><td>Green</td></tr>\n",
       "</tbody>\n",
       "</table>\n"
      ],
      "text/latex": [
       "A tibble: 5 × 3\n",
       "\\begin{tabular}{lll}\n",
       " mineral\\_names & hardness & color\\\\\n",
       " <chr> & <chr> & <chr>\\\\\n",
       "\\hline\n",
       "\t Quartz      & 7   & Clear\\\\\n",
       "\t Plagioclase & 6   & White\\\\\n",
       "\t Orthoclase  & 6   & Pink \\\\\n",
       "\t Biotite     & 2.5 & Black\\\\\n",
       "\t Muscovite   & 2.5 & Green\\\\\n",
       "\\end{tabular}\n"
      ],
      "text/markdown": [
       "\n",
       "A tibble: 5 × 3\n",
       "\n",
       "| mineral_names &lt;chr&gt; | hardness &lt;chr&gt; | color &lt;chr&gt; |\n",
       "|---|---|---|\n",
       "| Quartz      | 7   | Clear |\n",
       "| Plagioclase | 6   | White |\n",
       "| Orthoclase  | 6   | Pink  |\n",
       "| Biotite     | 2.5 | Black |\n",
       "| Muscovite   | 2.5 | Green |\n",
       "\n"
      ],
      "text/plain": [
       "  mineral_names hardness color\n",
       "1 Quartz        7        Clear\n",
       "2 Plagioclase   6        White\n",
       "3 Orthoclase    6        Pink \n",
       "4 Biotite       2.5      Black\n",
       "5 Muscovite     2.5      Green"
      ]
     },
     "metadata": {},
     "output_type": "display_data"
    }
   ],
   "source": [
    "#04-24/03\n",
    "# Transform the data frame to wide format\n",
    "df_wide = pivot_wider(df_long, names_from = Variable, values_from = Value )\n",
    "\n",
    "# View the result\n",
    "df_wide"
   ]
  },
  {
   "cell_type": "code",
   "execution_count": null,
   "id": "b3dfd44f-980f-41a2-b963-55eee2d09c17",
   "metadata": {},
   "outputs": [],
   "source": []
  }
 ],
 "metadata": {
  "kernelspec": {
   "display_name": "R",
   "language": "R",
   "name": "ir"
  },
  "language_info": {
   "codemirror_mode": "r",
   "file_extension": ".r",
   "mimetype": "text/x-r-source",
   "name": "R",
   "pygments_lexer": "r",
   "version": "4.3.1"
  }
 },
 "nbformat": 4,
 "nbformat_minor": 5
}
