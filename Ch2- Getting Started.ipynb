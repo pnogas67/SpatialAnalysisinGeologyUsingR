{
 "cells": [
  {
   "cell_type": "markdown",
   "id": "f80d55b2-2c23-4688-ac48-dd6386c03df1",
   "metadata": {},
   "source": [
    "# Spatial Analysis in Geology using R\n",
    "## by Pedro Nogueira"
   ]
  },
  {
   "cell_type": "markdown",
   "id": "cbe2113f-5b37-4a35-a732-7df4bb7f6fed",
   "metadata": {},
   "source": [
    "## 2. Getting started"
   ]
  },
  {
   "cell_type": "markdown",
   "id": "e5670160-2aac-4581-8d0d-985cc14642bf",
   "metadata": {},
   "source": []
  },
  {
   "cell_type": "code",
   "execution_count": 6,
   "id": "ec3c0b06-7deb-4f90-b571-ea47bd470953",
   "metadata": {},
   "outputs": [
    {
     "name": "stdout",
     "output_type": "stream",
     "text": [
      "               _                           \n",
      "platform       aarch64-apple-darwin20      \n",
      "arch           aarch64                     \n",
      "os             darwin20                    \n",
      "system         aarch64, darwin20           \n",
      "status                                     \n",
      "major          4                           \n",
      "minor          3.1                         \n",
      "year           2023                        \n",
      "month          06                          \n",
      "day            16                          \n",
      "svn rev        84548                       \n",
      "language       R                           \n",
      "version.string R version 4.3.1 (2023-06-16)\n",
      "nickname       Beagle Scouts               \n"
     ]
    }
   ],
   "source": [
    "# Print the R version information\n",
    "print(R.version)"
   ]
  },
  {
   "cell_type": "code",
   "execution_count": 4,
   "id": "3a5728da-d174-4189-87b1-49ba766f64c8",
   "metadata": {},
   "outputs": [
    {
     "name": "stdout",
     "output_type": "stream",
     "text": [
      "[1] 42\n"
     ]
    }
   ],
   "source": [
    "#02-01\n",
    "x = 42\n",
    "\n",
    "# View results\n",
    "print(x)"
   ]
  },
  {
   "cell_type": "code",
   "execution_count": 6,
   "id": "b4e7bb0f-025b-41db-ae62-da4f1f3b24b4",
   "metadata": {},
   "outputs": [
    {
     "name": "stdout",
     "output_type": "stream",
     "text": [
      "[1] 1 2 3 4 5\n"
     ]
    }
   ],
   "source": [
    "#02-02\n",
    "\n",
    "x = c(1, 2, 3, 4, 5)\n",
    "\n",
    "# View results\n",
    "print(x)"
   ]
  },
  {
   "cell_type": "code",
   "execution_count": 7,
   "id": "d03c8774-e662-4103-8662-ca70569ca59f",
   "metadata": {},
   "outputs": [
    {
     "name": "stdout",
     "output_type": "stream",
     "text": [
      "     [,1] [,2]\n",
      "[1,]    1    4\n",
      "[2,]    2    5\n",
      "[3,]    3    6\n"
     ]
    }
   ],
   "source": [
    "#02-03\n",
    "x = matrix(1:6, ncol = 2, nrow = 3)\n",
    "\n",
    "# View results\n",
    "print(x)"
   ]
  },
  {
   "cell_type": "code",
   "execution_count": 8,
   "id": "22d865ff-bac4-4744-9fa1-724d0d667ea3",
   "metadata": {},
   "outputs": [
    {
     "name": "stdout",
     "output_type": "stream",
     "text": [
      ", , 1\n",
      "\n",
      "     [,1] [,2]\n",
      "[1,]    1    3\n",
      "[2,]    2    4\n",
      "\n",
      ", , 2\n",
      "\n",
      "     [,1] [,2]\n",
      "[1,]    5    7\n",
      "[2,]    6    8\n",
      "\n",
      ", , 3\n",
      "\n",
      "     [,1] [,2]\n",
      "[1,]    9   11\n",
      "[2,]   10   12\n",
      "\n"
     ]
    }
   ],
   "source": [
    "#02-04\n",
    "x = array(1:12, dim = c(2, 2, 3))\n",
    "\n",
    "# View results\n",
    "print(x)"
   ]
  },
  {
   "cell_type": "code",
   "execution_count": 9,
   "id": "5df85c58-26ad-416f-8068-49f7edccf994",
   "metadata": {},
   "outputs": [
    {
     "name": "stdout",
     "output_type": "stream",
     "text": [
      "  period_name start_My end_My\n",
      "1    Cambrian      541    485\n",
      "2    Devonian      419    359\n",
      "3     Permian      298    252\n"
     ]
    }
   ],
   "source": [
    "#02-05\n",
    "# Creating a dataframe with geologic period information\n",
    "geologic_periods = data.frame(\n",
    "period_name = c(\"Cambrian\", \"Devonian\", \"Permian\"),\n",
    "start_My = c(541, 419, 298),\n",
    "end_My = c(485, 359, 252)\n",
    ")\n",
    "\n",
    "# View results\n",
    "print(geologic_periods)"
   ]
  },
  {
   "cell_type": "code",
   "execution_count": 10,
   "id": "67ba46dd-529f-43a5-93d8-fa4794318d1b",
   "metadata": {},
   "outputs": [
    {
     "name": "stdout",
     "output_type": "stream",
     "text": [
      "$minerals\n",
      "  mineral_name hardness\n",
      "1       Quartz        7\n",
      "2     Feldspar        6\n",
      "3      Calcite        3\n",
      "\n",
      "$rocks\n",
      "  rock_name velocity\n",
      "1   Granite     6000\n",
      "2 Sandstone     4000\n",
      "3 Limestone     5000\n",
      "\n"
     ]
    }
   ],
   "source": [
    "#02-06\n",
    "# Creating a list with two data frames\n",
    "geology_data = list(\n",
    "minerals = data.frame(\n",
    "mineral_name = c(\"Quartz\", \"Feldspar\", \"Calcite\"),\n",
    "hardness = c(7, 6, 3)\n",
    "),\n",
    "rocks = data.frame(\n",
    "rock_name = c(\"Granite\", \"Sandstone\", \"Limestone\"),\n",
    "velocity = c(6000, 4000, 5000)\n",
    ")\n",
    ")\n",
    "\n",
    "# View results\n",
    "print(geology_data)"
   ]
  },
  {
   "cell_type": "code",
   "execution_count": 1,
   "id": "1492981f-f95e-4508-8431-07512791727c",
   "metadata": {},
   "outputs": [
    {
     "name": "stdout",
     "output_type": "stream",
     "text": [
      "[1] \"x is positive\"\n"
     ]
    }
   ],
   "source": [
    "#02-07\n",
    "x = 5\n",
    "if (x > 0) {\n",
    "print(\"x is positive\")\n",
    "} else {\n",
    "print(\"x is not positive\")\n",
    "}"
   ]
  },
  {
   "cell_type": "code",
   "execution_count": 2,
   "id": "75efb38a-08c4-46ea-be35-d04459422bef",
   "metadata": {},
   "outputs": [
    {
     "name": "stdout",
     "output_type": "stream",
     "text": [
      "[1] 1\n",
      "[1] 2\n",
      "[1] 3\n",
      "[1] 4\n",
      "[1] 5\n"
     ]
    }
   ],
   "source": [
    "#02-08\n",
    "for (i in 1:5) {\n",
    "print(i)\n",
    "}"
   ]
  },
  {
   "cell_type": "code",
   "execution_count": 3,
   "id": "765521b3-c608-4cc2-96c0-65b8099a0e6b",
   "metadata": {},
   "outputs": [
    {
     "name": "stdout",
     "output_type": "stream",
     "text": [
      "[1] 1\n",
      "[1] 2\n",
      "[1] 3\n",
      "[1] 4\n",
      "[1] 5\n"
     ]
    }
   ],
   "source": [
    "#02-09\n",
    "x = 1\n",
    "while (x <= 5) {\n",
    "print(x)\n",
    "x = x + 1\n",
    "}"
   ]
  },
  {
   "cell_type": "code",
   "execution_count": 4,
   "id": "147f87d0-2945-44e6-be25-3600bee82580",
   "metadata": {},
   "outputs": [
    {
     "name": "stderr",
     "output_type": "stream",
     "text": [
      "Warning message in system(paste0(\"tar zxf \\\"\", path.expand(what), \"\\\" -C \\\"\", path.expand(where), :\n",
      "“error in running command”\n",
      "Warning message:\n",
      "“'tar' returned non-zero exit code 127”\n"
     ]
    },
    {
     "ename": "ERROR",
     "evalue": "Error: file ‘/var/folders/kb/ptdwvk4x5j5czckx6fkwgwv80000gn/T//Rtmp2w573V/downloaded_packages/dplyr_1.1.4.tgz’ is not a macOS binary package\n",
     "output_type": "error",
     "traceback": [
      "Error: file ‘/var/folders/kb/ptdwvk4x5j5czckx6fkwgwv80000gn/T//Rtmp2w573V/downloaded_packages/dplyr_1.1.4.tgz’ is not a macOS binary package\nTraceback:\n",
      "1. install.packages(\"dplyr\")",
      "2. .install.macbinary(pkgs = bins, lib = lib, contriburl = contrib.url(repos, \n .     type2), method = method, available = av2, destdir = destdir, \n .     dependencies = NULL, quiet = quiet, ...)",
      "3. unpackPkg(foundpkgs[okp, 2L], foundpkgs[okp, 1L], lib, lock = lock)",
      "4. stop(gettextf(\"file %s is not a macOS binary package\", sQuote(pkg)), \n .     domain = NA, call. = FALSE)"
     ]
    }
   ],
   "source": [
    "#02-10\n",
    "install.packages(\"dplyr\")"
   ]
  },
  {
   "cell_type": "code",
   "execution_count": 5,
   "id": "4cf54cc2-fcee-4af7-bcec-cc3142cbd4ec",
   "metadata": {},
   "outputs": [
    {
     "name": "stderr",
     "output_type": "stream",
     "text": [
      "\n",
      "Attaching package: ‘dplyr’\n",
      "\n",
      "\n",
      "The following objects are masked from ‘package:stats’:\n",
      "\n",
      "    filter, lag\n",
      "\n",
      "\n",
      "The following objects are masked from ‘package:base’:\n",
      "\n",
      "    intersect, setdiff, setequal, union\n",
      "\n",
      "\n"
     ]
    }
   ],
   "source": [
    "#02-11\n",
    "library(dplyr)"
   ]
  },
  {
   "cell_type": "code",
   "execution_count": null,
   "id": "76f08912-eaaf-4ae0-8a67-eb60d7215453",
   "metadata": {},
   "outputs": [],
   "source": []
  }
 ],
 "metadata": {
  "kernelspec": {
   "display_name": "R",
   "language": "R",
   "name": "ir"
  },
  "language_info": {
   "codemirror_mode": "r",
   "file_extension": ".r",
   "mimetype": "text/x-r-source",
   "name": "R",
   "pygments_lexer": "r",
   "version": "4.3.1"
  }
 },
 "nbformat": 4,
 "nbformat_minor": 5
}
